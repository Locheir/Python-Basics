{
 "cells": [
  {
   "cell_type": "markdown",
   "metadata": {},
   "source": [
    "### Map Function"
   ]
  },
  {
   "cell_type": "markdown",
   "metadata": {},
   "source": [
    "- This Function applies a given function to all items in an input list\n",
    "\n",
    "- It returns a Map object"
   ]
  },
  {
   "cell_type": "code",
   "execution_count": 2,
   "metadata": {},
   "outputs": [
    {
     "name": "stdout",
     "output_type": "stream",
     "text": [
      "[1, 4, 9, 16, 25, 36]\n"
     ]
    }
   ],
   "source": [
    "# Normal Way :\n",
    "\n",
    "list1 = [1,2,3,4,5,6]\n",
    "\n",
    "def square(x):\n",
    "    return x**2\n",
    "\n",
    "for ind,i in enumerate(list1):\n",
    "    list1[ind] = i**2\n",
    "\n",
    "print(list1)"
   ]
  },
  {
   "cell_type": "code",
   "execution_count": 8,
   "metadata": {},
   "outputs": [
    {
     "data": {
      "text/plain": [
       "[1, 4, 9, 16, 25, 36]"
      ]
     },
     "execution_count": 8,
     "metadata": {},
     "output_type": "execute_result"
    }
   ],
   "source": [
    "# Using Map Function\n",
    "\n",
    "list1 = [1,2,3,4,5,6]\n",
    "\n",
    "def square(x):\n",
    "    return x**2\n",
    "\n",
    "list(map(square,list1))"
   ]
  },
  {
   "cell_type": "code",
   "execution_count": 9,
   "metadata": {},
   "outputs": [
    {
     "data": {
      "text/plain": [
       "[1, 4, 9, 16, 25, 36]"
      ]
     },
     "execution_count": 9,
     "metadata": {},
     "output_type": "execute_result"
    }
   ],
   "source": [
    "## Lambda Function with Map \n",
    "\n",
    "numbers = [1,2,3,4,5,6]\n",
    "\n",
    "list(map(lambda x:x**2,numbers))"
   ]
  },
  {
   "cell_type": "code",
   "execution_count": 12,
   "metadata": {},
   "outputs": [
    {
     "name": "stdout",
     "output_type": "stream",
     "text": [
      "[5, 7, 9]\n"
     ]
    }
   ],
   "source": [
    "### Map Multiple Iterables\n",
    "\n",
    "numbers1 = [1,2,3]\n",
    "numbers2 = [4,5,6]\n",
    "\n",
    "added_numbers = list(map(lambda x,y:x+y,numbers1,numbers2))\n",
    "\n",
    "print(added_numbers)"
   ]
  },
  {
   "cell_type": "code",
   "execution_count": 14,
   "metadata": {},
   "outputs": [
    {
     "name": "stdout",
     "output_type": "stream",
     "text": [
      "[1, 2, 3, 4, 5]\n"
     ]
    }
   ],
   "source": [
    "## Map to convert a list of strings to integers\n",
    "\n",
    "numbers_in_str = ['1','2','3','4','5']\n",
    "\n",
    "numbers_in_int = list(map(int,numbers_in_str))\n",
    "print(numbers_in_int)"
   ]
  },
  {
   "cell_type": "code",
   "execution_count": 17,
   "metadata": {},
   "outputs": [
    {
     "name": "stdout",
     "output_type": "stream",
     "text": [
      "['APPLE', 'BANANA', 'CHERRY']\n"
     ]
    }
   ],
   "source": [
    "words = ['apple','banana','cherry']\n",
    "\n",
    "upper_words  = list(map(str.upper,words))\n",
    "print(upper_words)"
   ]
  },
  {
   "cell_type": "code",
   "execution_count": 20,
   "metadata": {},
   "outputs": [
    {
     "data": {
      "text/plain": [
       "['Mohit', 'Faiz']"
      ]
     },
     "execution_count": 20,
     "metadata": {},
     "output_type": "execute_result"
    }
   ],
   "source": [
    "def get_name(person):\n",
    "    return person['name']\n",
    "\n",
    "people = [\n",
    "    {\n",
    "        'name' : 'Mohit',\n",
    "        'age' : 21\n",
    "    },\n",
    "    {\n",
    "        'name' : 'Faiz',\n",
    "        'age' : 21\n",
    "    }\n",
    "]\n",
    "\n",
    "list(map(get_name,people))"
   ]
  }
 ],
 "metadata": {
  "kernelspec": {
   "display_name": "Python 3",
   "language": "python",
   "name": "python3"
  },
  "language_info": {
   "codemirror_mode": {
    "name": "ipython",
    "version": 3
   },
   "file_extension": ".py",
   "mimetype": "text/x-python",
   "name": "python",
   "nbconvert_exporter": "python",
   "pygments_lexer": "ipython3",
   "version": "3.12.0"
  }
 },
 "nbformat": 4,
 "nbformat_minor": 2
}
