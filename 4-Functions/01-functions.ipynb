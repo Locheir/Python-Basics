{
 "cells": [
  {
   "cell_type": "markdown",
   "metadata": {},
   "source": [
    "### Functions in Python"
   ]
  },
  {
   "cell_type": "markdown",
   "metadata": {},
   "source": [
    "- block of code that performs a certain Task\n",
    "\n",
    "- Functions help to organize code , reusing code and making it easier for others to understand your code.\n",
    "\n"
   ]
  },
  {
   "cell_type": "code",
   "execution_count": 1,
   "metadata": {},
   "outputs": [],
   "source": [
    "# How to Define a Function\n",
    "\n",
    "# Syntax\n",
    "\n",
    "def function_name(parameters):\n",
    "    \"\"\" Docstring \"\"\"\n",
    "\n",
    "    # Function Body\n",
    "    expression = parameters*2\n",
    "    return expression "
   ]
  },
  {
   "cell_type": "code",
   "execution_count": 2,
   "metadata": {},
   "outputs": [
    {
     "data": {
      "text/plain": [
       "4"
      ]
     },
     "execution_count": 2,
     "metadata": {},
     "output_type": "execute_result"
    }
   ],
   "source": [
    "function_name(2)"
   ]
  },
  {
   "cell_type": "code",
   "execution_count": 3,
   "metadata": {},
   "outputs": [
    {
     "name": "stdout",
     "output_type": "stream",
     "text": [
      "Number 24 is an Even Number\n"
     ]
    }
   ],
   "source": [
    "## Why do we use Function\n",
    "# Eg-> If we want to find number is even or odd\n",
    "\n",
    "num = 24\n",
    "if num%2==0 :\n",
    "    print(\"Number\",num,\"is an Even Number\")\n",
    "else :\n",
    "    print(\"Number\",num,\"is an Odd Number\")"
   ]
  },
  {
   "cell_type": "code",
   "execution_count": 4,
   "metadata": {},
   "outputs": [],
   "source": [
    "# If i want to perform the above task multiple times i have to write the code again\n",
    "# So instead of writing the whole code again i just define it inside a function\n",
    "\n",
    "def even_or_odd(num):\n",
    "\n",
    "    \"\"\" This Function finds Even or Odd Numbers \"\"\"\n",
    "\n",
    "    if num%2==0 :\n",
    "        print(\"Number\",num,\"is an Even Number\")\n",
    "    else :\n",
    "        print(\"Number\",num,\"is an Odd Number\")"
   ]
  },
  {
   "cell_type": "code",
   "execution_count": 7,
   "metadata": {},
   "outputs": [
    {
     "name": "stdout",
     "output_type": "stream",
     "text": [
      "Number 25 is an Odd Number\n",
      "Number 16 is an Even Number\n",
      "Number 3 is an Odd Number\n"
     ]
    }
   ],
   "source": [
    "# Calling the Function :\n",
    "even_or_odd(25)\n",
    "even_or_odd(16)\n",
    "even_or_odd(3)"
   ]
  },
  {
   "cell_type": "code",
   "execution_count": 8,
   "metadata": {},
   "outputs": [
    {
     "name": "stdout",
     "output_type": "stream",
     "text": [
      "Result : 6\n"
     ]
    }
   ],
   "source": [
    "# Function with Multiple Parameters\n",
    "\n",
    "def add(a,b):\n",
    "    return a+b\n",
    "\n",
    "result = add(2,4)\n",
    "\n",
    "print(\"Result :\",result)\n"
   ]
  },
  {
   "cell_type": "code",
   "execution_count": 11,
   "metadata": {},
   "outputs": [
    {
     "name": "stdout",
     "output_type": "stream",
     "text": [
      "Hello Krishna! Welcome to ML,NLP Course\n",
      "Hello Guest! Welcome to ML,NLP Course\n"
     ]
    }
   ],
   "source": [
    "## Default Parameters \n",
    "\n",
    "def greet(name=\"Guest\"):\n",
    "    print(f\"Hello {name}! Welcome to ML,NLP Course\")\n",
    "\n",
    "greet('Krishna')\n",
    "greet()"
   ]
  },
  {
   "cell_type": "code",
   "execution_count": 13,
   "metadata": {},
   "outputs": [
    {
     "name": "stdout",
     "output_type": "stream",
     "text": [
      "1\n",
      "2\n",
      "3\n",
      "4\n",
      "5\n",
      "Mohit\n"
     ]
    }
   ],
   "source": [
    "### Variable Length Arguments \n",
    "\n",
    "# Positional and Keyword Arguments\n",
    "def print_numbers(*args):\n",
    "    for i in args:\n",
    "        print(i)\n",
    "\n",
    "print_numbers(1,2,3,4,5,'Mohit')"
   ]
  },
  {
   "cell_type": "code",
   "execution_count": 14,
   "metadata": {},
   "outputs": [],
   "source": [
    "# Keywords Arguments\n",
    "\n",
    "def print_detail(**kwargs):\n",
    "    for key , value in kwargs.items():\n",
    "        print(f'{key} : {value}')\n"
   ]
  },
  {
   "cell_type": "code",
   "execution_count": 15,
   "metadata": {},
   "outputs": [
    {
     "name": "stdout",
     "output_type": "stream",
     "text": [
      "name : Omkar\n",
      "age : 21\n",
      "country : India\n"
     ]
    }
   ],
   "source": [
    "print_detail(name='Omkar',age=21,country='India')"
   ]
  },
  {
   "cell_type": "code",
   "execution_count": 16,
   "metadata": {},
   "outputs": [],
   "source": [
    "# Mixture of Both Positional and Keyword Arguments\n",
    "\n",
    "def print_detail(*args,**kwargs):\n",
    "    print(\"Positional Arguments\")\n",
    "    for val in args:\n",
    "        print(f'{val}')\n",
    "\n",
    "    print(\"\\nKeyword Arguments\")\n",
    "    for key , value in kwargs.items():\n",
    "        print(f'{key} : {value}')\n",
    "\n",
    "          "
   ]
  },
  {
   "cell_type": "code",
   "execution_count": 17,
   "metadata": {},
   "outputs": [
    {
     "name": "stdout",
     "output_type": "stream",
     "text": [
      "Positional Arguments\n",
      "1\n",
      "2\n",
      "3\n",
      "Yash\n",
      "\n",
      "Keyword Arguments\n",
      "name : Mohit\n",
      "grade : A\n"
     ]
    }
   ],
   "source": [
    "print_detail(1,2,3,'Yash',name='Mohit',grade='A')"
   ]
  },
  {
   "cell_type": "code",
   "execution_count": 20,
   "metadata": {},
   "outputs": [
    {
     "data": {
      "text/plain": [
       "6"
      ]
     },
     "execution_count": 20,
     "metadata": {},
     "output_type": "execute_result"
    }
   ],
   "source": [
    "# Return Statements :\n",
    "\n",
    "def multiply(a,b):\n",
    "    return a*b\n",
    "\n",
    "multiply(2,3)"
   ]
  },
  {
   "cell_type": "code",
   "execution_count": 21,
   "metadata": {},
   "outputs": [
    {
     "data": {
      "text/plain": [
       "(12, 10)"
      ]
     },
     "execution_count": 21,
     "metadata": {},
     "output_type": "execute_result"
    }
   ],
   "source": [
    "# Returning Multiple Values\n",
    "\n",
    "def multiply2(a,b,c,d):\n",
    "    return a*b,c*d\n",
    "\n",
    "multiply2(3,4,5,2)"
   ]
  }
 ],
 "metadata": {
  "kernelspec": {
   "display_name": "Python 3",
   "language": "python",
   "name": "python3"
  },
  "language_info": {
   "codemirror_mode": {
    "name": "ipython",
    "version": 3
   },
   "file_extension": ".py",
   "mimetype": "text/x-python",
   "name": "python",
   "nbconvert_exporter": "python",
   "pygments_lexer": "ipython3",
   "version": "3.12.0"
  }
 },
 "nbformat": 4,
 "nbformat_minor": 2
}
