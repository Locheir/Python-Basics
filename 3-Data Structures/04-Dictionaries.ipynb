{
 "cells": [
  {
   "cell_type": "markdown",
   "metadata": {},
   "source": [
    "### Dictionaries"
   ]
  },
  {
   "cell_type": "markdown",
   "metadata": {},
   "source": [
    "- Unordered collection of elements \n",
    "\n",
    "- In the form of key-value pairs\n",
    "\n",
    "- Keys must always be unique \n",
    "\n",
    "- Values can have duplicate values.\n",
    "\n",
    "- Dictionaries are Mutable"
   ]
  },
  {
   "cell_type": "code",
   "execution_count": 1,
   "metadata": {},
   "outputs": [
    {
     "name": "stdout",
     "output_type": "stream",
     "text": [
      "<class 'dict'>\n"
     ]
    }
   ],
   "source": [
    "## Creating Dictionaries \n",
    "\n",
    "empty_dict = {}\n",
    "print(type(empty_dict))"
   ]
  },
  {
   "cell_type": "code",
   "execution_count": 2,
   "metadata": {},
   "outputs": [
    {
     "name": "stdout",
     "output_type": "stream",
     "text": [
      "<class 'dict'>\n"
     ]
    }
   ],
   "source": [
    "empty_dict = dict()\n",
    "print(type(empty_dict))"
   ]
  },
  {
   "cell_type": "code",
   "execution_count": 5,
   "metadata": {},
   "outputs": [
    {
     "name": "stdout",
     "output_type": "stream",
     "text": [
      "{'name': 'Mohit', 'age': 21, 'grade': 'A'}\n"
     ]
    }
   ],
   "source": [
    "student = {\n",
    "    \"name\": \"Mohit\",\n",
    "    \"age\": 21,\n",
    "    \"grade\": \"A\"\n",
    "}\n",
    "\n",
    "print(student)"
   ]
  },
  {
   "cell_type": "code",
   "execution_count": 7,
   "metadata": {},
   "outputs": [
    {
     "name": "stdout",
     "output_type": "stream",
     "text": [
      "{'name': 'Mohit', 'age': 17}\n"
     ]
    }
   ],
   "source": [
    "# Trying to give duplicate keys results in key getting override by latest Value\n",
    "\n",
    "student = {\n",
    "    \"name\":\"Naman\",\n",
    "    \"age\":17,\n",
    "    \"name\":\"Mohit\"\n",
    "}\n",
    "\n",
    "print(student)"
   ]
  },
  {
   "cell_type": "code",
   "execution_count": 9,
   "metadata": {},
   "outputs": [
    {
     "name": "stdout",
     "output_type": "stream",
     "text": [
      "Mohit\n",
      "21\n"
     ]
    }
   ],
   "source": [
    "## Accessing Dictionary Elements\n",
    "\n",
    "student = {\n",
    "    \"name\": \"Mohit\",\n",
    "    \"age\": 21,\n",
    "    \"grade\": \"A\"\n",
    "}\n",
    "\n",
    "print(student['name'])\n",
    "print(student[\"age\"])"
   ]
  },
  {
   "cell_type": "code",
   "execution_count": 11,
   "metadata": {},
   "outputs": [
    {
     "name": "stdout",
     "output_type": "stream",
     "text": [
      "A\n",
      "Mohit\n"
     ]
    }
   ],
   "source": [
    "## Accessing Dictionary Elements using get() Method\n",
    "\n",
    "print(student.get('grade'))\n",
    "print(student.get('name'))"
   ]
  },
  {
   "cell_type": "code",
   "execution_count": 12,
   "metadata": {},
   "outputs": [
    {
     "name": "stdout",
     "output_type": "stream",
     "text": [
      "None\n"
     ]
    }
   ],
   "source": [
    "# If I pass a key that is not available\n",
    "\n",
    "print(student.get('last_name'))"
   ]
  },
  {
   "cell_type": "code",
   "execution_count": 13,
   "metadata": {},
   "outputs": [
    {
     "name": "stdout",
     "output_type": "stream",
     "text": [
      "Not Available\n"
     ]
    }
   ],
   "source": [
    "# I can give a default value if key does not exist\n",
    "\n",
    "print(student.get('last_name','Not Available'))"
   ]
  },
  {
   "cell_type": "code",
   "execution_count": 14,
   "metadata": {},
   "outputs": [
    {
     "name": "stdout",
     "output_type": "stream",
     "text": [
      "{'name': 'Mohit', 'age': 21, 'grade': 'A'}\n",
      "{'name': 'Mohit', 'age': 33, 'grade': 'A'}\n",
      "{'name': 'Mohit', 'age': 33, 'grade': 'A', 'address': 'india'}\n"
     ]
    }
   ],
   "source": [
    "### Modifying Dictionary Elements \n",
    "\n",
    "# Adding or Updating an Element :\n",
    "\n",
    "student = {\n",
    "    \"name\": \"Mohit\",\n",
    "    \"age\": 21,\n",
    "    \"grade\": \"A\"\n",
    "}\n",
    "\n",
    "print(student)\n",
    "\n",
    "student['age'] = 33\n",
    "print(student)\n",
    "\n",
    "student['address'] = 'india'\n",
    "print(student)"
   ]
  },
  {
   "cell_type": "code",
   "execution_count": 17,
   "metadata": {},
   "outputs": [
    {
     "name": "stdout",
     "output_type": "stream",
     "text": [
      "{'age': 21, 'grade': 'A'}\n"
     ]
    }
   ],
   "source": [
    "# Deleting an Element in Dictionary \n",
    "\n",
    "student = {\n",
    "    \"name\": \"Mohit\",\n",
    "    \"age\": 21,\n",
    "    \"grade\": \"A\"\n",
    "}\n",
    "\n",
    "del student[\"name\"] \n",
    "print(student)"
   ]
  },
  {
   "cell_type": "code",
   "execution_count": 20,
   "metadata": {},
   "outputs": [
    {
     "name": "stdout",
     "output_type": "stream",
     "text": [
      "dict_keys(['name', 'age', 'grade'])\n",
      "dict_values(['Mohit', 21, 'A'])\n",
      "dict_items([('name', 'Mohit'), ('age', 21), ('grade', 'A')])\n"
     ]
    }
   ],
   "source": [
    "# Dictionary Methods \n",
    "\n",
    "student = {\n",
    "    \"name\": \"Mohit\",\n",
    "    \"age\": 21,\n",
    "    \"grade\": \"A\"\n",
    "}\n",
    "\n",
    "keys = student.keys()\n",
    "print(keys)\n",
    "\n",
    "values = student.values()\n",
    "print(values)\n",
    "\n",
    "items = student.items()\n",
    "print(items)"
   ]
  },
  {
   "cell_type": "code",
   "execution_count": 24,
   "metadata": {},
   "outputs": [
    {
     "name": "stdout",
     "output_type": "stream",
     "text": [
      "{'name': 'Mohit', 'age': 21, 'grade': 'A'}\n",
      "{'name': 'Mohit', 'age': 21, 'grade': 'A'}\n",
      "{'name': 'naman', 'age': 21, 'grade': 'A'}\n",
      "{'name': 'naman', 'age': 21, 'grade': 'A'}\n"
     ]
    }
   ],
   "source": [
    "## Problem while Copying. \n",
    "\n",
    "student = {\n",
    "    \"name\": \"Mohit\",\n",
    "    \"age\": 21,\n",
    "    \"grade\": \"A\"\n",
    "}\n",
    "\n",
    "student_copy = student\n",
    "\n",
    "print(student)\n",
    "print(student_copy)\n",
    "\n",
    "student['name'] = 'naman'\n",
    "\n",
    "print(student)\n",
    "print(student_copy)"
   ]
  },
  {
   "cell_type": "code",
   "execution_count": 27,
   "metadata": {},
   "outputs": [
    {
     "name": "stdout",
     "output_type": "stream",
     "text": [
      "{'name': 'Mohit', 'age': 21, 'grade': 'A'}\n",
      "{'name': 'Mohit', 'age': 21, 'grade': 'A'}\n",
      "{'name': 'raj', 'age': 21, 'grade': 'A'}\n",
      "{'name': 'Mohit', 'age': 21, 'grade': 'A'}\n"
     ]
    }
   ],
   "source": [
    "# Shallow Copy\n",
    "\n",
    "student = {\n",
    "    \"name\": \"Mohit\",\n",
    "    \"age\": 21,\n",
    "    \"grade\": \"A\"\n",
    "}\n",
    "\n",
    "student_copy1 = student.copy()\n",
    "\n",
    "print(student_copy1)\n",
    "print(student)\n",
    "\n",
    "student['name'] = 'raj'\n",
    "\n",
    "print(student)\n",
    "print(student_copy1)"
   ]
  },
  {
   "cell_type": "code",
   "execution_count": 32,
   "metadata": {},
   "outputs": [
    {
     "name": "stdout",
     "output_type": "stream",
     "text": [
      "name\n",
      "age\n",
      "roll_no\n",
      "grade\n",
      "\n",
      "mohit\n",
      "21\n",
      "17\n",
      "A\n",
      "\n",
      "name : mohit\n",
      "age : 21\n",
      "roll_no : 17\n",
      "grade : A\n"
     ]
    }
   ],
   "source": [
    "### Iterating over Dictionaries :\n",
    "\n",
    "# We can use Loops to iterate over dictionaries , keys , values \n",
    "\n",
    "student ={\n",
    "    'name' : 'mohit',\n",
    "    'age' : 21,\n",
    "    'roll_no' : 17,\n",
    "    'grade' : 'A'\n",
    "}\n",
    "\n",
    "\n",
    "# Iterating over keys \n",
    "for keys in student.keys():\n",
    "    print(keys)\n",
    "\n",
    "print()\n",
    "\n",
    "# Iterating over values\n",
    "for values in student.values():\n",
    "    print(values)\n",
    "\n",
    "print()\n",
    "\n",
    "# Iterate over key-value pairs \n",
    "for key,value in student.items():\n",
    "    print(f\"{key} : {value}\")"
   ]
  },
  {
   "cell_type": "code",
   "execution_count": 33,
   "metadata": {},
   "outputs": [],
   "source": [
    "## Nested Dictionaries :\n",
    "\n",
    "students = {\n",
    "    \"student1\" : {\n",
    "        'name' : 'sumedh',\n",
    "        'age' : 21,\n",
    "        'grade' : 'A'\n",
    "    },\n",
    "    \"student2\" : {\n",
    "        'name' : 'naman',\n",
    "        'age' : 17,\n",
    "        'grade' : 'A+'\n",
    "    }\n",
    "}"
   ]
  },
  {
   "cell_type": "code",
   "execution_count": 36,
   "metadata": {},
   "outputs": [
    {
     "name": "stdout",
     "output_type": "stream",
     "text": [
      "naman\n",
      "A\n"
     ]
    }
   ],
   "source": [
    "## Accessing Nested Dictionary Elements\n",
    "\n",
    "print(students['student2']['name'])\n",
    "print(students['student1']['grade'])"
   ]
  },
  {
   "cell_type": "code",
   "execution_count": 37,
   "metadata": {},
   "outputs": [
    {
     "name": "stdout",
     "output_type": "stream",
     "text": [
      "student1 : {'name': 'sumedh', 'age': 21, 'grade': 'A'}\n",
      "student2 : {'name': 'naman', 'age': 17, 'grade': 'A+'}\n"
     ]
    }
   ],
   "source": [
    "# Iterating over Nested Dictionaries \n",
    "\n",
    "for student_id,student_info in students.items():\n",
    "    print(f\"{student_id} : {student_info}\")"
   ]
  },
  {
   "cell_type": "code",
   "execution_count": 39,
   "metadata": {},
   "outputs": [
    {
     "name": "stdout",
     "output_type": "stream",
     "text": [
      "student1 :->\n",
      "\tname:sumedh\n",
      "\tage:21\n",
      "\tgrade:A\n",
      "\n",
      "student2 :->\n",
      "\tname:naman\n",
      "\tage:17\n",
      "\tgrade:A+\n",
      "\n"
     ]
    }
   ],
   "source": [
    "for student_id,student_info in students.items():\n",
    "    print(f\"{student_id} :->\")\n",
    "    for key, value in student_info.items():\n",
    "        print(f'\\t{key}:{value}')\n",
    "    print()"
   ]
  },
  {
   "cell_type": "code",
   "execution_count": 43,
   "metadata": {},
   "outputs": [
    {
     "name": "stdout",
     "output_type": "stream",
     "text": [
      "{0: 0, 1: 1, 2: 4, 3: 9, 4: 16}\n"
     ]
    }
   ],
   "source": [
    "## Dictionary Comprehension :\n",
    "\n",
    "squares = {x:x**2    for x in range(5)}\n",
    "print(squares)"
   ]
  },
  {
   "cell_type": "code",
   "execution_count": 47,
   "metadata": {},
   "outputs": [
    {
     "name": "stdout",
     "output_type": "stream",
     "text": [
      "{0: 0, 2: 4, 4: 16, 6: 36, 8: 64}\n"
     ]
    }
   ],
   "source": [
    "## Conditional Dictionary Comprehension :\n",
    "\n",
    "even = {x:x**2  for x in range(10)   if x%2==0}\n",
    "print(even)"
   ]
  },
  {
   "cell_type": "code",
   "execution_count": 61,
   "metadata": {},
   "outputs": [
    {
     "name": "stdout",
     "output_type": "stream",
     "text": [
      "{'1': 1, '2': 1, '3': 2, '4': 4}\n"
     ]
    }
   ],
   "source": [
    "# Practical Example :\n",
    "\n",
    "# Use a dictionary to count a frequency of elements in list \n",
    "\n",
    "numbers = [1,2,3,3,4,4,4,4]\n",
    "\n",
    "unique_num = set(numbers)\n",
    "\n",
    "dict1 = {}\n",
    "\n",
    "for num in unique_num:\n",
    "    dict1[f'{num}'] = 0\n",
    "\n",
    "for num in numbers:\n",
    "    if str(num) in dict1.keys():\n",
    "        dict1[f'{num}'] += 1\n",
    "\n",
    "print(dict1)"
   ]
  },
  {
   "cell_type": "code",
   "execution_count": 62,
   "metadata": {},
   "outputs": [
    {
     "name": "stdout",
     "output_type": "stream",
     "text": [
      "{1: 2, 2: 1, 3: 3, 4: 2, 5: 1}\n"
     ]
    }
   ],
   "source": [
    "# Better code for above problem is :\n",
    "\n",
    "numbers = [1,2,3,3,3,1,4,4,5]\n",
    "frequency = {}\n",
    "\n",
    "for num in numbers :\n",
    "    if num in frequency:\n",
    "        frequency[num] +=1\n",
    "    else:\n",
    "        frequency[num] = 1\n",
    "\n",
    "print(frequency)"
   ]
  },
  {
   "cell_type": "code",
   "execution_count": 63,
   "metadata": {},
   "outputs": [
    {
     "name": "stdout",
     "output_type": "stream",
     "text": [
      "{'a': 1, 'b': 2, 'c': 3, 'd': 4}\n"
     ]
    }
   ],
   "source": [
    "# Merge 2 Dictionaries into One \n",
    "\n",
    "dict1 = {'a':1 , 'b':2}\n",
    "dict2 = {'c':3 , 'd':4}\n",
    "\n",
    "merged_dict = {**dict1,**dict2}\n",
    "print(merged_dict)"
   ]
  },
  {
   "cell_type": "code",
   "execution_count": null,
   "metadata": {},
   "outputs": [],
   "source": []
  }
 ],
 "metadata": {
  "kernelspec": {
   "display_name": "Python 3",
   "language": "python",
   "name": "python3"
  },
  "language_info": {
   "codemirror_mode": {
    "name": "ipython",
    "version": 3
   },
   "file_extension": ".py",
   "mimetype": "text/x-python",
   "name": "python",
   "nbconvert_exporter": "python",
   "pygments_lexer": "ipython3",
   "version": "3.12.0"
  }
 },
 "nbformat": 4,
 "nbformat_minor": 2
}
