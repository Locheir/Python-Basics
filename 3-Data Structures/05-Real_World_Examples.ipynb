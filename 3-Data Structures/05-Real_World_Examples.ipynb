{
 "cells": [
  {
   "cell_type": "markdown",
   "metadata": {},
   "source": [
    "### 1. Manage A To Do List"
   ]
  },
  {
   "cell_type": "code",
   "execution_count": 2,
   "metadata": {},
   "outputs": [
    {
     "name": "stdout",
     "output_type": "stream",
     "text": [
      "Don't Forget to Pay the Utility Bills\n",
      "The To Do List Remaining : \n",
      "-buy groceries\n",
      "-pay bills\n",
      "-schedule meeting\n",
      "-go for run\n"
     ]
    }
   ],
   "source": [
    "to_do_list = ['buy groceries','clean the house','pay bills']\n",
    "\n",
    "## Adding to task\n",
    "to_do_list.append('schedule meeting')\n",
    "to_do_list.append('go for run')\n",
    "\n",
    "# Removing a complete task\n",
    "to_do_list.remove('clean the house')\n",
    "\n",
    "# Checking if a task is in the list \n",
    "if 'pay bills' in to_do_list:\n",
    "    print(\"Don't Forget to Pay the Utility Bills\")\n",
    "\n",
    "print(\"The To Do List Remaining : \")\n",
    "for task in to_do_list:\n",
    "    print(f\"-{task}\")"
   ]
  },
  {
   "cell_type": "markdown",
   "metadata": {},
   "source": [
    "### 2. Organizing Student Grades"
   ]
  },
  {
   "cell_type": "markdown",
   "metadata": {},
   "source": [
    "- create a list to store and calculate avergae grades for students"
   ]
  },
  {
   "cell_type": "code",
   "execution_count": 4,
   "metadata": {},
   "outputs": [
    {
     "name": "stdout",
     "output_type": "stream",
     "text": [
      "The Average Student Grades is : 82.83\n",
      "Highest Grades : 95\n",
      "Lowest Grades : 59\n"
     ]
    }
   ],
   "source": [
    "# Organizing Student Grades\n",
    "grades = [85, 92, 78, 95, 88]\n",
    "\n",
    "# Adding a New Grade\n",
    "grades.append(59)\n",
    "\n",
    "# Calculating the average Grades\n",
    "average_grade = sum(grades)/len(grades)\n",
    "print(f\"The Average Student Grades is : {average_grade:.2f}\")\n",
    "\n",
    "# Finding the Highest and Lowest Grades\n",
    "print(f\"Highest Grades : {max(grades)}\")\n",
    "print(f\"Lowest Grades : {min(grades)}\")"
   ]
  },
  {
   "cell_type": "markdown",
   "metadata": {},
   "source": [
    "### 3. Managing An Inventory "
   ]
  },
  {
   "cell_type": "markdown",
   "metadata": {},
   "source": [
    "- use a list to manage inventory items "
   ]
  },
  {
   "cell_type": "code",
   "execution_count": 5,
   "metadata": {},
   "outputs": [
    {
     "name": "stdout",
     "output_type": "stream",
     "text": [
      "Item is in Stock\n",
      "List of Inventory :\n",
      "- chips\n",
      "- milk\n",
      "- bread\n",
      "- toffies\n"
     ]
    }
   ],
   "source": [
    "# Making a list of our inverntory\n",
    "inventory =['chips','biscuits','milk','bread']\n",
    "\n",
    "# Adding Item to Inventroy\n",
    "inventory.append('toffies')\n",
    "\n",
    "# Removing an Item from Inverntory \n",
    "inventory.remove('biscuits')\n",
    "\n",
    "# Checking if an element is in the inverntory or not\n",
    "item = 'chips'\n",
    "\n",
    "if item in inventory:\n",
    "    print(\"Item is in Stock\")\n",
    "else :\n",
    "    print(\"Item is not in Stock\")\n",
    "\n",
    "# Print the List of Inventory \n",
    "print(\"List of Inventory :\")\n",
    "for item in inventory:\n",
    "    print(f\"- {item}\")"
   ]
  },
  {
   "cell_type": "markdown",
   "metadata": {},
   "source": [
    "### 4. Collecting User Feedback"
   ]
  },
  {
   "cell_type": "markdown",
   "metadata": {},
   "source": [
    "- use a list to collect and analyze user feedback"
   ]
  },
  {
   "cell_type": "code",
   "execution_count": 7,
   "metadata": {},
   "outputs": [
    {
     "name": "stdout",
     "output_type": "stream",
     "text": [
      "Positive Feedback Count : 2\n",
      "User Feedback :\n",
      "- Great Service!\n",
      "- Very Satisfied\n",
      "- Could be better\n",
      "- Excellent experience\n",
      "- Not Happy with your service\n"
     ]
    }
   ],
   "source": [
    "# Collecting User Feedback\n",
    "user_feedback = ['Great Service!', 'Very Satisfied', 'Could be better','Excellent experience']\n",
    "\n",
    "# Adding new feedback\n",
    "user_feedback.append('Not Happy with your service')\n",
    "\n",
    "# Counting specific Feedback\n",
    "positive_feedback_cnt = sum(1 for comment in user_feedback if 'great' in comment.lower() or 'excellent' in  comment.lower())\n",
    "print(\"Positive Feedback Count :\",positive_feedback_cnt)\n",
    "\n",
    "# Printing all Feedbacks\n",
    "print(\"User Feedback :\")\n",
    "for feedback in user_feedback:\n",
    "    print(f\"- {feedback}\")\n",
    "                            "
   ]
  },
  {
   "cell_type": "code",
   "execution_count": null,
   "metadata": {},
   "outputs": [],
   "source": []
  }
 ],
 "metadata": {
  "kernelspec": {
   "display_name": "Python 3",
   "language": "python",
   "name": "python3"
  },
  "language_info": {
   "codemirror_mode": {
    "name": "ipython",
    "version": 3
   },
   "file_extension": ".py",
   "mimetype": "text/x-python",
   "name": "python",
   "nbconvert_exporter": "python",
   "pygments_lexer": "ipython3",
   "version": "3.12.0"
  }
 },
 "nbformat": 4,
 "nbformat_minor": 2
}
