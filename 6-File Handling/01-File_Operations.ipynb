{
 "cells": [
  {
   "cell_type": "markdown",
   "metadata": {},
   "source": [
    "### File Operations"
   ]
  },
  {
   "cell_type": "markdown",
   "metadata": {},
   "source": [
    "- crucial part of any programming language.\n",
    "\n",
    "- python provide build-in functions and methods to read and write to files, both text and binary "
   ]
  },
  {
   "cell_type": "code",
   "execution_count": 2,
   "metadata": {},
   "outputs": [
    {
     "name": "stdout",
     "output_type": "stream",
     "text": [
      "Hi, My name is Mohit\n",
      "Welcome to File Handling Tutorial\n",
      "I am Teaching Python\n"
     ]
    }
   ],
   "source": [
    "## Read a whole File \n",
    "\n",
    "with open('example.txt','r') as file :\n",
    "    content = file.read()\n",
    "    print(content)\n"
   ]
  },
  {
   "cell_type": "code",
   "execution_count": 4,
   "metadata": {},
   "outputs": [
    {
     "name": "stdout",
     "output_type": "stream",
     "text": [
      "Hi, My name is Mohit\n",
      "Welcome to File Handling Tutorial\n",
      "I am Teaching Python\n"
     ]
    }
   ],
   "source": [
    "## Read a file Line by Line\n",
    "\n",
    "# .strip() -> removes the new line character(\\n)\n",
    "\n",
    "with open('example.txt','r') as file:\n",
    "    for line in file:\n",
    "        print(line.strip())"
   ]
  },
  {
   "cell_type": "code",
   "execution_count": 5,
   "metadata": {},
   "outputs": [],
   "source": [
    "## Open a file for writing in it.\n",
    "\n",
    "with open('example.txt','w')as file :\n",
    "    file.write('Hello World!\\n')\n",
    "    file.write('This is a New Line')"
   ]
  },
  {
   "cell_type": "code",
   "execution_count": 7,
   "metadata": {},
   "outputs": [],
   "source": [
    "## Writing in a file (without Overwriting the content)\n",
    "\n",
    "with open('example.txt','a')as file:\n",
    "    file.write('\\nAppend opertion has been performed')"
   ]
  },
  {
   "cell_type": "code",
   "execution_count": 8,
   "metadata": {},
   "outputs": [],
   "source": [
    "## Writing list of Lines to a file\n",
    "\n",
    "lines = ['First Line \\n','Second Line \\n','Third Line \\n']\n",
    "\n",
    "with open('example.txt','a') as file :\n",
    "    file.writelines(lines)"
   ]
  },
  {
   "cell_type": "code",
   "execution_count": 9,
   "metadata": {},
   "outputs": [],
   "source": [
    "## Binary File\n",
    "\n",
    "# Writing to a binary file\n",
    "data = b'\\x00\\x01\\x02\\x03\\x04'\n",
    "\n",
    "with open('example2.bin','wb')as file:\n",
    "    file.write(data)\n"
   ]
  },
  {
   "cell_type": "code",
   "execution_count": 10,
   "metadata": {},
   "outputs": [
    {
     "name": "stdout",
     "output_type": "stream",
     "text": [
      "b'\\x00\\x01\\x02\\x03\\x04'\n"
     ]
    }
   ],
   "source": [
    "# Reading a binary file\n",
    "\n",
    "with open('example2.bin','rb')as file:\n",
    "    content = file.read()\n",
    "    print(content)"
   ]
  },
  {
   "cell_type": "code",
   "execution_count": 11,
   "metadata": {},
   "outputs": [],
   "source": [
    "### Read the content from a source text file and write it to a destination text file\n",
    "content = ''\n",
    "with open('source.txt','r')as src_file :\n",
    "    content = src_file.read()\n",
    "\n",
    "with open('destination.txt','w')as des_file:\n",
    "    des_file.write(content)"
   ]
  }
 ],
 "metadata": {
  "kernelspec": {
   "display_name": "Python 3",
   "language": "python",
   "name": "python3"
  },
  "language_info": {
   "codemirror_mode": {
    "name": "ipython",
    "version": 3
   },
   "file_extension": ".py",
   "mimetype": "text/x-python",
   "name": "python",
   "nbconvert_exporter": "python",
   "pygments_lexer": "ipython3",
   "version": "3.12.0"
  }
 },
 "nbformat": 4,
 "nbformat_minor": 2
}
