{
 "cells": [
  {
   "cell_type": "markdown",
   "metadata": {},
   "source": [
    "### Memory Management"
   ]
  },
  {
   "cell_type": "markdown",
   "metadata": {},
   "source": [
    "- Memory Management in Python involves a combination of automatic garbage collection , reference counting , and various interanl optimizations to efficiently manage memory allocation and deallcation.\n"
   ]
  },
  {
   "cell_type": "markdown",
   "metadata": {},
   "source": [
    "#### Reference Counting : "
   ]
  },
  {
   "cell_type": "markdown",
   "metadata": {},
   "source": [
    "- It is the primary method in Python used to manage memory. \n",
    "\n",
    "- Each object in Python maintains a count of references pointing to it.\n",
    "\n",
    "- When the reference count drops to zero, the memory occupied by the object is deallocated."
   ]
  },
  {
   "cell_type": "code",
   "execution_count": 1,
   "metadata": {},
   "outputs": [
    {
     "name": "stdout",
     "output_type": "stream",
     "text": [
      "2\n"
     ]
    }
   ],
   "source": [
    "import sys\n",
    "\n",
    "a = []\n",
    "\n",
    "# 2 (one reference is coming from 'a' and one from getrefcount())\n",
    "print(sys.getrefcount(a))"
   ]
  },
  {
   "cell_type": "code",
   "execution_count": 3,
   "metadata": {},
   "outputs": [
    {
     "name": "stdout",
     "output_type": "stream",
     "text": [
      "3\n"
     ]
    }
   ],
   "source": [
    "b = a\n",
    "\n",
    "# 3(one from 'a' and one from 'b' and one from getrefcount())\n",
    "print(sys.getrefcount(b))"
   ]
  },
  {
   "cell_type": "code",
   "execution_count": 4,
   "metadata": {},
   "outputs": [
    {
     "name": "stdout",
     "output_type": "stream",
     "text": [
      "2\n"
     ]
    }
   ],
   "source": [
    "del b\n",
    "\n",
    "print(sys.getrefcount(a))"
   ]
  },
  {
   "cell_type": "markdown",
   "metadata": {},
   "source": [
    "#### Garbage Collection"
   ]
  },
  {
   "cell_type": "markdown",
   "metadata": {},
   "source": [
    "- Python includes a cyclic garbafe collector to handle reference cycles.\n",
    "\n",
    "- Reference cycles occur when objects reference each other, preventing their reference counts from reaching zero."
   ]
  },
  {
   "cell_type": "code",
   "execution_count": 5,
   "metadata": {},
   "outputs": [],
   "source": [
    "import gc\n",
    "\n",
    "## Enable the Garbage Collection : \n",
    "gc.enable()"
   ]
  },
  {
   "cell_type": "code",
   "execution_count": 6,
   "metadata": {},
   "outputs": [],
   "source": [
    "## Disable the Garbage Collection : \n",
    "gc.disable()"
   ]
  },
  {
   "cell_type": "code",
   "execution_count": 7,
   "metadata": {},
   "outputs": [
    {
     "data": {
      "text/plain": [
       "560"
      ]
     },
     "execution_count": 7,
     "metadata": {},
     "output_type": "execute_result"
    }
   ],
   "source": [
    "## Manage the collected Garbage : \n",
    "gc.collect() # gives unreacable number of variables "
   ]
  },
  {
   "cell_type": "code",
   "execution_count": 8,
   "metadata": {},
   "outputs": [
    {
     "name": "stdout",
     "output_type": "stream",
     "text": [
      "[{'collections': 191, 'collected': 1538, 'uncollectable': 0}, {'collections': 17, 'collected': 372, 'uncollectable': 0}, {'collections': 2, 'collected': 560, 'uncollectable': 0}]\n"
     ]
    }
   ],
   "source": [
    "## Get Garbage Collection Stats :\n",
    "print(gc.get_stats())"
   ]
  },
  {
   "cell_type": "code",
   "execution_count": 9,
   "metadata": {},
   "outputs": [
    {
     "name": "stdout",
     "output_type": "stream",
     "text": [
      "[]\n"
     ]
    }
   ],
   "source": [
    "## Get the unreachable objects : \n",
    "print(gc.garbage)"
   ]
  },
  {
   "cell_type": "markdown",
   "metadata": {},
   "source": [
    "#### Memory Management Best Practices : "
   ]
  },
  {
   "cell_type": "markdown",
   "metadata": {},
   "source": [
    "1. Local Variables : They have a shoter Lifespan and are freed sooner than global variables.\n",
    "\n",
    "2. Avoid Circular References : It leads to memory leaks if not properly managed.\n",
    "\n",
    "3. Use Generators : Generators Produce Items one at a time and only keep one item in memory at a time making them memory efficient.\n",
    "\n",
    "4. Explicitly Deleting Object : use the del statement to delete the variables and objects explicitly.\n",
    "\n",
    "5. Profile Memory Usage : Use memory profiling tools like tracemalloc and memory_profiler to identify memory leaks and optimize memory usage."
   ]
  },
  {
   "cell_type": "code",
   "execution_count": 12,
   "metadata": {},
   "outputs": [
    {
     "name": "stdout",
     "output_type": "stream",
     "text": [
      "Object obj1 created\n",
      "Object obj2 created\n",
      "Object obj1 deleted\n",
      "Object obj2 deleted\n"
     ]
    },
    {
     "data": {
      "text/plain": [
       "9"
      ]
     },
     "execution_count": 12,
     "metadata": {},
     "output_type": "execute_result"
    }
   ],
   "source": [
    "## Handling Circular Reference :\n",
    "import gc\n",
    "\n",
    "class MyObject :\n",
    "    def __init__(self, name) :\n",
    "        self.name = name \n",
    "        print(f\"Object {self.name} created\")\n",
    "\n",
    "    def __del__(self) :\n",
    "        print(f\"Object {self.name} deleted\")\n",
    "\n",
    "## Create Circular Object :\n",
    "obj1 = MyObject(\"obj1\")\n",
    "obj2 = MyObject(\"obj2\")\n",
    "\n",
    "obj1.ref = obj2\n",
    "obj2.ref = obj1\n",
    "\n",
    "del obj1\n",
    "del obj2\n",
    "\n",
    "## Manually Trigger the Garbage Collection : \n",
    "gc.collect()"
   ]
  },
  {
   "cell_type": "code",
   "execution_count": 16,
   "metadata": {},
   "outputs": [
    {
     "name": "stdout",
     "output_type": "stream",
     "text": [
      "0\n",
      "1\n",
      "2\n",
      "3\n",
      "4\n",
      "5\n",
      "6\n",
      "7\n",
      "8\n",
      "9\n",
      "10\n"
     ]
    }
   ],
   "source": [
    "## Generators For Memory Efficiency : \n",
    "# Allow you to produce one item at a time , using memory more efficiently by only keeping one item in memory at a time .\n",
    "\n",
    "def generate_numbers(n) :\n",
    "    for i in range(n) :\n",
    "        yield i\n",
    "\n",
    "# using the generaotor\n",
    "for num in generate_numbers(100000) :\n",
    "    print(num) \n",
    "    if num >= 10 :\n",
    "        break"
   ]
  },
  {
   "cell_type": "code",
   "execution_count": 17,
   "metadata": {},
   "outputs": [],
   "source": [
    "## Profiling Memory Usage with tracemalloc\n",
    "import tracemalloc\n",
    "\n",
    "def create_list() :\n",
    "    return [i for i in range(10000)]\n",
    "\n",
    "def main() :\n",
    "    tracemalloc.start()\n",
    "\n",
    "    create_list()\n",
    "\n",
    "    snapshot = tracemalloc.take_snapshot()\n",
    "    top_stats = snapshot.statistics('lineno')\n",
    "\n",
    "    print('[ Top 10 ]')\n",
    "    for stat in top_stats[:10] :\n",
    "        print(stat)"
   ]
  },
  {
   "cell_type": "code",
   "execution_count": 18,
   "metadata": {},
   "outputs": [
    {
     "name": "stdout",
     "output_type": "stream",
     "text": [
      "[ Top 10 ]\n",
      "c:\\Users\\mohit\\OneDrive\\Desktop\\Python\\venv\\Lib\\tracemalloc.py:551: size=72 B, count=1, average=72 B\n",
      "C:\\Users\\mohit\\AppData\\Local\\Temp\\ipykernel_10732\\755289313.py:4: size=72 B, count=1, average=72 B\n"
     ]
    }
   ],
   "source": [
    "main()"
   ]
  }
 ],
 "metadata": {
  "kernelspec": {
   "display_name": "Python 3",
   "language": "python",
   "name": "python3"
  },
  "language_info": {
   "codemirror_mode": {
    "name": "ipython",
    "version": 3
   },
   "file_extension": ".py",
   "mimetype": "text/x-python",
   "name": "python",
   "nbconvert_exporter": "python",
   "pygments_lexer": "ipython3",
   "version": "3.12.0"
  }
 },
 "nbformat": 4,
 "nbformat_minor": 2
}
