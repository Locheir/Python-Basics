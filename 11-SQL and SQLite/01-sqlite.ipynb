{
 "cells": [
  {
   "cell_type": "markdown",
   "metadata": {},
   "source": [
    "### SQL and SQLite"
   ]
  },
  {
   "cell_type": "markdown",
   "metadata": {},
   "source": [
    "- SQL stands for (Structured Query Language)\n",
    "\n",
    "- It is a standard language for managing and manipulating relational databases.\n",
    "\n",
    "- SQLite is self-contained , serveless , and zero-configuration database engine that is widely used for embedded database systems."
   ]
  },
  {
   "cell_type": "code",
   "execution_count": 1,
   "metadata": {},
   "outputs": [],
   "source": [
    "# Importing Libraries : \n",
    "import sqlite3"
   ]
  },
  {
   "cell_type": "code",
   "execution_count": 3,
   "metadata": {},
   "outputs": [
    {
     "data": {
      "text/plain": [
       "<sqlite3.Connection at 0x1f67ba248b0>"
      ]
     },
     "execution_count": 3,
     "metadata": {},
     "output_type": "execute_result"
    }
   ],
   "source": [
    "## Connecting to SQLite Database : \n",
    "connection = sqlite3.connect('example.db')\n",
    "connection"
   ]
  },
  {
   "cell_type": "code",
   "execution_count": 4,
   "metadata": {},
   "outputs": [],
   "source": [
    "# Creating a Cursor Objects : \n",
    "cursor = connection.cursor()"
   ]
  },
  {
   "cell_type": "code",
   "execution_count": 5,
   "metadata": {},
   "outputs": [],
   "source": [
    "## Creating a Table : \n",
    "cursor.execute(\"\"\"\n",
    "    Create Table If Not Exists employees(\n",
    "        id Integer Primary Key,\n",
    "        name Text Not Null,\n",
    "        age Integer,\n",
    "        department Text\n",
    "    )\n",
    "\"\"\")\n",
    "\n",
    "## Commit the Changes : \n",
    "connection.commit()"
   ]
  },
  {
   "cell_type": "code",
   "execution_count": 6,
   "metadata": {},
   "outputs": [
    {
     "data": {
      "text/plain": [
       "<sqlite3.Cursor at 0x1f67ba43940>"
      ]
     },
     "execution_count": 6,
     "metadata": {},
     "output_type": "execute_result"
    }
   ],
   "source": [
    "cursor.execute('''\n",
    "    Select * from employees\n",
    "''')"
   ]
  },
  {
   "cell_type": "code",
   "execution_count": 7,
   "metadata": {},
   "outputs": [],
   "source": [
    "## Inserting data in SQLite Table : \n",
    "cursor.execute('''\n",
    "    Insert into employees(name,age,department)\n",
    "    values('Mohit',21,'Data Scientist')\n",
    "''')\n",
    "\n",
    "cursor.execute('''\n",
    "    Insert into employees(name,age,department)\n",
    "    values('Sumedh',21,'Web Developer')\n",
    "''')\n",
    "\n",
    "cursor.execute('''\n",
    "    Insert into employees(name,age,department)\n",
    "    values('Yash',22,'Finance')\n",
    "''')\n",
    "\n",
    "## Commit the Changes : \n",
    "connection.commit()"
   ]
  },
  {
   "cell_type": "code",
   "execution_count": 8,
   "metadata": {},
   "outputs": [
    {
     "name": "stdout",
     "output_type": "stream",
     "text": [
      "(1, 'Mohit', 21, 'Data Scientist')\n",
      "(2, 'Sumedh', 21, 'Web Developer')\n",
      "(3, 'Yash', 22, 'Finance')\n"
     ]
    }
   ],
   "source": [
    "# Query the Data from the Table \n",
    "cursor.execute('''\n",
    "    Select * from employees\n",
    "''')\n",
    "rows = cursor.fetchall()\n",
    "\n",
    "## Print the queried Data\n",
    "for row in rows :\n",
    "    print(row)"
   ]
  },
  {
   "cell_type": "code",
   "execution_count": 9,
   "metadata": {},
   "outputs": [],
   "source": [
    "## Update the Data in the Table :\n",
    "cursor.execute(\"\"\"\n",
    "    UPDATE employees \n",
    "    SET age = 25\n",
    "    WHERE name = 'Mohit'\n",
    "\"\"\")\n",
    "\n",
    "## Commit the Changes :\n",
    "connection.commit()"
   ]
  },
  {
   "cell_type": "code",
   "execution_count": 10,
   "metadata": {},
   "outputs": [
    {
     "name": "stdout",
     "output_type": "stream",
     "text": [
      "(1, 'Mohit', 25, 'Data Scientist')\n",
      "(2, 'Sumedh', 21, 'Web Developer')\n",
      "(3, 'Yash', 22, 'Finance')\n"
     ]
    }
   ],
   "source": [
    "# Query the Data from the Table \n",
    "cursor.execute('''\n",
    "    Select * from employees\n",
    "''')\n",
    "rows = cursor.fetchall()\n",
    "\n",
    "## Print the queried Data\n",
    "for row in rows :\n",
    "    print(row)"
   ]
  },
  {
   "cell_type": "code",
   "execution_count": 11,
   "metadata": {},
   "outputs": [],
   "source": [
    "## Delete the Data from the Table :\n",
    "cursor.execute('''\n",
    "    DELETE FROM employees\n",
    "    WHERE name = 'Yash'\n",
    "''')\n",
    "\n",
    "## Commit the Changes :\n",
    "connection.commit()"
   ]
  },
  {
   "cell_type": "code",
   "execution_count": 12,
   "metadata": {},
   "outputs": [
    {
     "name": "stdout",
     "output_type": "stream",
     "text": [
      "(1, 'Mohit', 25, 'Data Scientist')\n",
      "(2, 'Sumedh', 21, 'Web Developer')\n"
     ]
    }
   ],
   "source": [
    "# Query the Data from the Table \n",
    "cursor.execute('''\n",
    "    Select * from employees\n",
    "''')\n",
    "rows = cursor.fetchall()\n",
    "\n",
    "## Print the queried Data\n",
    "for row in rows :\n",
    "    print(row)"
   ]
  },
  {
   "cell_type": "code",
   "execution_count": 13,
   "metadata": {},
   "outputs": [],
   "source": [
    "## Working with Sales Data : \n",
    "# Connect to an SQLite Database \n",
    "connection = sqlite3.connect('sales_data.db')\n",
    "cursor = connection.cursor()\n",
    "\n",
    "# Create a Table for Sales Data : \n",
    "cursor.execute('''\n",
    "    CREATE TABLE IF NOT EXISTS sales(\n",
    "        id INTEGER PRIMARY KEY,\n",
    "        date TEXT NOT NULL,\n",
    "        product TEXT NOT NULL,\n",
    "        sales INTEGER,\n",
    "        region TEXT\n",
    "    )\n",
    "''')\n",
    "\n",
    "# Insert Data into the sales Table : \n",
    "sales_data = {\n",
    "    ('2023-01-01','Product1',100,'North'),\n",
    "    ('2023-01-02','Product2',200,'South'),\n",
    "    ('2023-01-03','Product1',150,'East'),\n",
    "    ('2023-01-04','Product3',250,'West'),\n",
    "    ('2023-01-05','Product2',300,'North')\n",
    "}\n",
    "\n",
    "cursor.executemany('''\n",
    "    INSERT INTO sales(date, product, sales, region)\n",
    "    VALUES (?, ?, ?, ?)\n",
    "''',sales_data)\n",
    "\n",
    "# Commit the Changes :\n",
    "connection.commit()"
   ]
  },
  {
   "cell_type": "code",
   "execution_count": 14,
   "metadata": {},
   "outputs": [
    {
     "name": "stdout",
     "output_type": "stream",
     "text": [
      "(1, '2023-01-04', 'Product3', 250, 'West')\n",
      "(2, '2023-01-01', 'Product1', 100, 'North')\n",
      "(3, '2023-01-05', 'Product2', 300, 'North')\n",
      "(4, '2023-01-03', 'Product1', 150, 'East')\n",
      "(5, '2023-01-02', 'Product2', 200, 'South')\n"
     ]
    }
   ],
   "source": [
    "# Query the Data from the Table \n",
    "cursor.execute('''\n",
    "    Select * from sales\n",
    "''')\n",
    "rows = cursor.fetchall()\n",
    "\n",
    "## Print the queried Data\n",
    "for row in rows :\n",
    "    print(row)"
   ]
  },
  {
   "cell_type": "code",
   "execution_count": 15,
   "metadata": {},
   "outputs": [],
   "source": [
    "## Closing the Connection :\n",
    "connection.close()"
   ]
  }
 ],
 "metadata": {
  "kernelspec": {
   "display_name": "Python 3",
   "language": "python",
   "name": "python3"
  },
  "language_info": {
   "codemirror_mode": {
    "name": "ipython",
    "version": 3
   },
   "file_extension": ".py",
   "mimetype": "text/x-python",
   "name": "python",
   "nbconvert_exporter": "python",
   "pygments_lexer": "ipython3",
   "version": "3.12.0"
  }
 },
 "nbformat": 4,
 "nbformat_minor": 2
}
