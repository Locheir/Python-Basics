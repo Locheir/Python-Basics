{
 "cells": [
  {
   "cell_type": "markdown",
   "metadata": {},
   "source": [
    "### Decorators"
   ]
  },
  {
   "cell_type": "markdown",
   "metadata": {},
   "source": [
    "- decorators are a powerful and flexible feature in Python that allows you to modify the behaviour of a function or actual code.\n",
    "\n",
    "- they are commonly used to add functionality to functions or methods wihtout modifying the actual code."
   ]
  },
  {
   "cell_type": "code",
   "execution_count": 1,
   "metadata": {},
   "outputs": [],
   "source": [
    "## Function copy\n",
    "## Closures\n",
    "## Decorators"
   ]
  },
  {
   "cell_type": "code",
   "execution_count": 10,
   "metadata": {},
   "outputs": [
    {
     "data": {
      "text/plain": [
       "'Welcome to the Advance Python Course '"
      ]
     },
     "execution_count": 10,
     "metadata": {},
     "output_type": "execute_result"
    }
   ],
   "source": [
    "## Function Copy :\n",
    "\n",
    "def welcome():\n",
    "    return \"Welcome to the Advance Python Course \"\n",
    "\n",
    "welcome()"
   ]
  },
  {
   "cell_type": "code",
   "execution_count": 12,
   "metadata": {},
   "outputs": [
    {
     "data": {
      "text/plain": [
       "'Welcome to the Advance Python Course '"
      ]
     },
     "execution_count": 12,
     "metadata": {},
     "output_type": "execute_result"
    }
   ],
   "source": [
    "wel = welcome\n",
    "\n",
    "wel()"
   ]
  },
  {
   "cell_type": "code",
   "execution_count": 13,
   "metadata": {},
   "outputs": [],
   "source": [
    "# I will delete the welcome() function\n",
    "del welcome"
   ]
  },
  {
   "cell_type": "code",
   "execution_count": 14,
   "metadata": {},
   "outputs": [
    {
     "data": {
      "text/plain": [
       "'Welcome to the Advance Python Course '"
      ]
     },
     "execution_count": 14,
     "metadata": {},
     "output_type": "execute_result"
    }
   ],
   "source": [
    "# I can still use the wel() function that is the copy of welcome() function which I deleted\n",
    "wel()"
   ]
  },
  {
   "cell_type": "code",
   "execution_count": 22,
   "metadata": {},
   "outputs": [],
   "source": [
    "## Closures : basically means function inside a function\n",
    "# Example 1 :\n",
    "\n",
    "def main_welcome() :\n",
    "\n",
    "    msg = 'Welcome'\n",
    "    \n",
    "    def sub_welcome_method() :\n",
    "        print(\"Welcome to the Advance Python Course\")\n",
    "        print(msg)\n",
    "        print(\"Please Learn these Concepts Properly\")\n",
    "\n",
    "    return sub_welcome_method()\n",
    "\n",
    "# Anything that is defined outside the sub-method can be used inside the sub-method as well."
   ]
  },
  {
   "cell_type": "code",
   "execution_count": 23,
   "metadata": {},
   "outputs": [
    {
     "name": "stdout",
     "output_type": "stream",
     "text": [
      "Welcome to the Advance Python Course\n",
      "Welcome\n",
      "Please Learn these Concepts Properly\n"
     ]
    }
   ],
   "source": [
    "main_welcome()"
   ]
  },
  {
   "cell_type": "code",
   "execution_count": 24,
   "metadata": {},
   "outputs": [],
   "source": [
    "# Example 2 :\n",
    "\n",
    "def main_welcome(func) :\n",
    "    \n",
    "    def sub_welcome_method() :\n",
    "        print(\"Welcome to the Advance Python Course\")\n",
    "        func(\"welcome every one !\")\n",
    "        print(\"Please Learn these Concepts Properly\")\n",
    "\n",
    "    return sub_welcome_method()"
   ]
  },
  {
   "cell_type": "code",
   "execution_count": 25,
   "metadata": {},
   "outputs": [
    {
     "name": "stdout",
     "output_type": "stream",
     "text": [
      "Welcome to the Advance Python Course\n",
      "welcome every one !\n",
      "Please Learn these Concepts Properly\n"
     ]
    }
   ],
   "source": [
    "main_welcome(print)"
   ]
  },
  {
   "cell_type": "code",
   "execution_count": 28,
   "metadata": {},
   "outputs": [],
   "source": [
    "# Example 3 :\n",
    "\n",
    "def main_method(func, list) :\n",
    "    \n",
    "    def sub_welcome_method() :\n",
    "        print(\"Welcome to advance python course\")\n",
    "        print(func(list))\n",
    "        print(\"Please learn the concepts thoroughly\")\n",
    "\n",
    "    return sub_welcome_method()"
   ]
  },
  {
   "cell_type": "code",
   "execution_count": 29,
   "metadata": {},
   "outputs": [
    {
     "name": "stdout",
     "output_type": "stream",
     "text": [
      "Welcome to advance python course\n",
      "5\n",
      "Please learn the concepts thoroughly\n"
     ]
    }
   ],
   "source": [
    "main_method(len, [1,2,3,4,5])"
   ]
  },
  {
   "cell_type": "code",
   "execution_count": 35,
   "metadata": {},
   "outputs": [],
   "source": [
    "# Decorator :\n",
    "# Example 1\n",
    "\n",
    "def main_welcome(func) :\n",
    "    \n",
    "    def sub_welcome_method() :\n",
    "        print(\"Welcome to the Advance Python Course\")\n",
    "        func()\n",
    "        print(\"Please Learn these Concepts Properly\")\n",
    "\n",
    "    return sub_welcome_method()"
   ]
  },
  {
   "cell_type": "code",
   "execution_count": 36,
   "metadata": {},
   "outputs": [
    {
     "name": "stdout",
     "output_type": "stream",
     "text": [
      "Advance Python Course\n"
     ]
    }
   ],
   "source": [
    "def course_introduction() :\n",
    "    print(\"Advance Python Course\")\n",
    "\n",
    "course_introduction()"
   ]
  },
  {
   "cell_type": "code",
   "execution_count": 38,
   "metadata": {},
   "outputs": [
    {
     "name": "stdout",
     "output_type": "stream",
     "text": [
      "Welcome to the Advance Python Course\n",
      "Advance Python Course\n",
      "Please Learn these Concepts Properly\n"
     ]
    }
   ],
   "source": [
    "main_welcome(course_introduction)"
   ]
  },
  {
   "cell_type": "code",
   "execution_count": 39,
   "metadata": {},
   "outputs": [
    {
     "name": "stdout",
     "output_type": "stream",
     "text": [
      "Welcome to the Advance Python Course\n",
      "This is and advance python course\n",
      "Please Learn these Concepts Properly\n"
     ]
    }
   ],
   "source": [
    "# Using Decorators \n",
    "\n",
    "@main_welcome\n",
    "def course_introduction():\n",
    "    print(\"This is and advance python course\")"
   ]
  },
  {
   "cell_type": "code",
   "execution_count": 52,
   "metadata": {},
   "outputs": [],
   "source": [
    "## Decorator \n",
    "# Example 2 :\n",
    "\n",
    "def my_decorator(func) :\n",
    "\n",
    "    def wrapper() :\n",
    "        print(\"Something is happening before the function is called\")\n",
    "        func()\n",
    "        print(\"Something is happening after the function is called\")\n",
    "\n",
    "    return wrapper"
   ]
  },
  {
   "cell_type": "code",
   "execution_count": 53,
   "metadata": {},
   "outputs": [],
   "source": [
    "@my_decorator\n",
    "def say_hello():\n",
    "    print(\"Hello !\")\n",
    "    "
   ]
  },
  {
   "cell_type": "code",
   "execution_count": 54,
   "metadata": {},
   "outputs": [
    {
     "name": "stdout",
     "output_type": "stream",
     "text": [
      "Something is happening before the function is called\n",
      "Hello !\n",
      "Something is happening after the function is called\n"
     ]
    }
   ],
   "source": [
    "say_hello()"
   ]
  },
  {
   "cell_type": "code",
   "execution_count": 55,
   "metadata": {},
   "outputs": [],
   "source": [
    "## Decorators with arguments : \n",
    "\n",
    "def repeat(n) :\n",
    "    def decorator(func) :\n",
    "        def wrapper(*args,**kwargs):\n",
    "            for _ in range(n) :\n",
    "                func(*args,**kwargs)\n",
    "        return wrapper\n",
    "    return decorator   "
   ]
  },
  {
   "cell_type": "code",
   "execution_count": 56,
   "metadata": {},
   "outputs": [],
   "source": [
    "@repeat(3)\n",
    "def say_hello():\n",
    "    print(\"Hello\")"
   ]
  },
  {
   "cell_type": "code",
   "execution_count": 57,
   "metadata": {},
   "outputs": [
    {
     "name": "stdout",
     "output_type": "stream",
     "text": [
      "Hello\n",
      "Hello\n",
      "Hello\n"
     ]
    }
   ],
   "source": [
    "say_hello()"
   ]
  }
 ],
 "metadata": {
  "kernelspec": {
   "display_name": "Python 3",
   "language": "python",
   "name": "python3"
  },
  "language_info": {
   "codemirror_mode": {
    "name": "ipython",
    "version": 3
   },
   "file_extension": ".py",
   "mimetype": "text/x-python",
   "name": "python",
   "nbconvert_exporter": "python",
   "pygments_lexer": "ipython3",
   "version": "3.12.0"
  }
 },
 "nbformat": 4,
 "nbformat_minor": 2
}
