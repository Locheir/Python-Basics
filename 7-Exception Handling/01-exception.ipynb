{
 "cells": [
  {
   "cell_type": "markdown",
   "metadata": {},
   "source": [
    "### Exception Handling"
   ]
  },
  {
   "cell_type": "markdown",
   "metadata": {},
   "source": [
    "- Exceptions are events that disrupt the flow of program\n",
    "\n",
    "- We use Exception Handling in Python to take corrective actions when an exception occurs without stopping the program\n",
    "\n"
   ]
  },
  {
   "cell_type": "code",
   "execution_count": 1,
   "metadata": {},
   "outputs": [],
   "source": [
    "# Examples of some Exceptions :\n",
    "\n",
    "# ZeroDivisionError : Dividing by zero\n",
    "# FileNotFoundError: File not found error.\n",
    "# ValueError: Invalid value error.\n",
    "# TypeError: Invalid type error."
   ]
  },
  {
   "cell_type": "code",
   "execution_count": 4,
   "metadata": {},
   "outputs": [],
   "source": [
    "# Example of an error\n",
    "\n",
    "# a = b\n",
    "# error : name 'b' is not defined"
   ]
  },
  {
   "cell_type": "code",
   "execution_count": 6,
   "metadata": {},
   "outputs": [
    {
     "name": "stdout",
     "output_type": "stream",
     "text": [
      "name 'b' is not defined\n"
     ]
    }
   ],
   "source": [
    "# Exception Handling in Python  \n",
    "\n",
    "# using try , except block\n",
    "\n",
    "try :\n",
    "    a = b\n",
    "except NameError as ex:\n",
    "    print(ex)"
   ]
  },
  {
   "cell_type": "code",
   "execution_count": 8,
   "metadata": {},
   "outputs": [
    {
     "name": "stdout",
     "output_type": "stream",
     "text": [
      "division by zero\n",
      "Enter denominator greater than 0\n"
     ]
    }
   ],
   "source": [
    "# Example of Zero Division Error\n",
    "\n",
    "try :\n",
    "    result = 1/0\n",
    "except ZeroDivisionError as ex :\n",
    "    print(ex)\n",
    "    print(\"Enter denominator greater than 0\")"
   ]
  },
  {
   "cell_type": "code",
   "execution_count": 12,
   "metadata": {},
   "outputs": [
    {
     "name": "stdout",
     "output_type": "stream",
     "text": [
      "name 'b' is not defined\n",
      "Exception got caught here\n"
     ]
    }
   ],
   "source": [
    "try :\n",
    "    result = 1/2\n",
    "    a = b\n",
    "except ZeroDivisionError as ex :\n",
    "    print(ex)\n",
    "except Exception as ex1:\n",
    "    print(ex1)\n",
    "    print('Exception got caught here')"
   ]
  },
  {
   "cell_type": "code",
   "execution_count": 17,
   "metadata": {},
   "outputs": [
    {
     "name": "stdout",
     "output_type": "stream",
     "text": [
      "Not a Valid Number\n"
     ]
    }
   ],
   "source": [
    "try :\n",
    "    num = int(input('Enter a Number'))\n",
    "    result = 10/num\n",
    "except ValueError as ex1 :\n",
    "    print(\"Not a Valid Number\")\n",
    "except ZeroDivisionError as ex :\n",
    "    print(ex)\n",
    "except Exception as ex3 :\n",
    "    print(ex3)"
   ]
  },
  {
   "cell_type": "code",
   "execution_count": 21,
   "metadata": {},
   "outputs": [
    {
     "name": "stdout",
     "output_type": "stream",
     "text": [
      "Hey the result is  0.5\n"
     ]
    }
   ],
   "source": [
    "## try , except , else block \n",
    "\n",
    "try :\n",
    "    num = int(input(\"Enter a number\"))\n",
    "    result = 10 / num\n",
    "except ValueError :\n",
    "    print(\"That's not a valid Number\")\n",
    "except ZeroDivisionError :\n",
    "    print(\"You can't divide by zero\")\n",
    "except Exception as ex :\n",
    "    print(ex)\n",
    "else :\n",
    "    print(\"Hey the result is \",result)"
   ]
  },
  {
   "cell_type": "code",
   "execution_count": 24,
   "metadata": {},
   "outputs": [
    {
     "name": "stdout",
     "output_type": "stream",
     "text": [
      "That's not a valid Number\n",
      "Execution Completed\n"
     ]
    }
   ],
   "source": [
    "## try , except , else , finally blocks\n",
    "\n",
    "try :\n",
    "    num = int(input(\"Enter a number\"))\n",
    "    result = 10 / num\n",
    "except ValueError :\n",
    "    print(\"That's not a valid Number\")\n",
    "except ZeroDivisionError :\n",
    "    print(\"You can't divide by zero\")\n",
    "except Exception as ex :\n",
    "    print(ex)\n",
    "\n",
    "else :\n",
    "    print(\"Hey the result is \",result)\n",
    "\n",
    "finally :\n",
    "    print('Execution Completed')"
   ]
  },
  {
   "cell_type": "code",
   "execution_count": 25,
   "metadata": {},
   "outputs": [],
   "source": [
    "# Real Life Example :\n",
    "\n",
    "# If I am trying to access the database and i get an exception related to password or username or etc.\n",
    "# Here after I handle the exception , I will have to close my connection with the database\n",
    "# In this senario finally block will be used as it will always execute"
   ]
  },
  {
   "cell_type": "code",
   "execution_count": 29,
   "metadata": {},
   "outputs": [
    {
     "name": "stdout",
     "output_type": "stream",
     "text": [
      "name 'b' is not defined\n",
      "file closed\n"
     ]
    }
   ],
   "source": [
    "# Example :\n",
    "\n",
    "# File handling and Exception Handling\n",
    "try :\n",
    "    file = open('file.txt','r')\n",
    "    content = file.read()\n",
    "    a=b\n",
    "    print(content)\n",
    "\n",
    "except FileNotFoundError :\n",
    "    print(\"The file does not exists\")\n",
    "except Exception as ex :\n",
    "    print(ex)\n",
    "\n",
    "finally :\n",
    "    if 'file' in locals() or not file.closed() :\n",
    "        file.close()\n",
    "        print(\"file closed\")"
   ]
  }
 ],
 "metadata": {
  "kernelspec": {
   "display_name": "Python 3",
   "language": "python",
   "name": "python3"
  },
  "language_info": {
   "codemirror_mode": {
    "name": "ipython",
    "version": 3
   },
   "file_extension": ".py",
   "mimetype": "text/x-python",
   "name": "python",
   "nbconvert_exporter": "python",
   "pygments_lexer": "ipython3",
   "version": "3.12.0"
  }
 },
 "nbformat": 4,
 "nbformat_minor": 2
}
