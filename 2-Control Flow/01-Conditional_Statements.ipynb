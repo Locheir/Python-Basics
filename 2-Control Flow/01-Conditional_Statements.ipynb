{
 "cells": [
  {
   "cell_type": "markdown",
   "metadata": {},
   "source": [
    "### Control Statements"
   ]
  },
  {
   "cell_type": "markdown",
   "metadata": {},
   "source": [
    "- if Statement\n",
    "- else Statement\n",
    "- elif Statement\n",
    "- Nested Conditional Statements"
   ]
  },
  {
   "cell_type": "code",
   "execution_count": 1,
   "metadata": {},
   "outputs": [
    {
     "name": "stdout",
     "output_type": "stream",
     "text": [
      "You are allowed to vote in the Elections\n"
     ]
    }
   ],
   "source": [
    "## if Statement\n",
    "\n",
    "age = 20 \n",
    "\n",
    "if age >= 18 :\n",
    "    print(\"You are allowed to vote in the Elections\")"
   ]
  },
  {
   "cell_type": "code",
   "execution_count": 2,
   "metadata": {},
   "outputs": [
    {
     "name": "stdout",
     "output_type": "stream",
     "text": [
      "You are Not Eligible for Voting\n"
     ]
    }
   ],
   "source": [
    "## if..else Statement\n",
    "\n",
    "# else executes the statement only when the condition is false in if block.\n",
    "age = 16\n",
    "\n",
    "if age>=18 :\n",
    "    print(\"You are eligible for voting\")\n",
    "else :\n",
    "    print(\"You are Not Eligible for Voting\")\n"
   ]
  },
  {
   "cell_type": "code",
   "execution_count": 6,
   "metadata": {},
   "outputs": [
    {
     "name": "stdout",
     "output_type": "stream",
     "text": [
      "Hey you are an Adult\n"
     ]
    }
   ],
   "source": [
    "## elif Statement\n",
    "\n",
    "# The elif statement allows you to check multiple conditions.\n",
    "# It stands for \"else if\".\n",
    "\n",
    "age = 21\n",
    "\n",
    "if age < 13 :\n",
    "    print(\"Hey you are a Child\")\n",
    "elif age < 18 :\n",
    "    print(\"Hey you are a Teenager\")\n",
    "else :\n",
    "    print(\"Hey you are an Adult\")"
   ]
  },
  {
   "cell_type": "code",
   "execution_count": 8,
   "metadata": {},
   "outputs": [
    {
     "name": "stdout",
     "output_type": "stream",
     "text": [
      "The Number is Positive\n",
      "The Number is Odd\n"
     ]
    }
   ],
   "source": [
    "## Nested Conditional Statements \n",
    "\n",
    "# Number is even , odd or negative :\n",
    "\n",
    "num = int(input(\"Enter you Number :\"))\n",
    "\n",
    "if num >= 0:\n",
    "    print(\"The Number is Positive\")\n",
    "\n",
    "    if num%2==0 :\n",
    "        print(\"The Number is Even\")\n",
    "    else :\n",
    "        print(\"The Number is Odd\")\n",
    "        \n",
    "else :\n",
    "    print(\"The Number is Negative\")\n",
    "\n"
   ]
  },
  {
   "cell_type": "code",
   "execution_count": 9,
   "metadata": {},
   "outputs": [
    {
     "name": "stdout",
     "output_type": "stream",
     "text": [
      "2024 is a leap year\n"
     ]
    }
   ],
   "source": [
    "## Practical Example :\n",
    "\n",
    "# Determine if an year is a leap year using nested conditional statements.\n",
    "\n",
    "year = int(input(\"Enter the year\"))\n",
    "\n",
    "if year%4==0 :\n",
    "    if year%100==0 :\n",
    "        if year%400 == 0:\n",
    "            print(year,\"is a leap year\")\n",
    "        else :\n",
    "            print(year,\"is not a leap year\")\n",
    "    else :\n",
    "        print(year,\"is a leap year\")\n",
    "else :\n",
    "    print(year,\"is not a leap year\")"
   ]
  },
  {
   "cell_type": "code",
   "execution_count": 11,
   "metadata": {},
   "outputs": [
    {
     "name": "stdout",
     "output_type": "stream",
     "text": [
      "Result : 5.0\n"
     ]
    }
   ],
   "source": [
    "# Simple Calculator :\n",
    "\n",
    "num1 = float(input(\"Enter 1st Number :\"))\n",
    "num2 = float(input(\"Enter 2nd Number :\"))\n",
    "operation = input(\"Enter Operation (+,-,*,/) :\")\n",
    "result = 0\n",
    "\n",
    "if operation == \"+\":\n",
    "    result = num1 + num2 \n",
    "elif operation == \"-\":\n",
    "    result = num1 - num2\n",
    "elif operation == \"*\":   \n",
    "    result = num1 * num2\n",
    "elif  operation == \"/\" :\n",
    "    if num2!=0 :\n",
    "        result = num1 / num2\n",
    "    else :\n",
    "        result =\"Cannot Divide by Zero\"\n",
    "else :\n",
    "    result = \"Invalid Operation\"\n",
    "\n",
    "print(\"Result :\",result)"
   ]
  }
 ],
 "metadata": {
  "kernelspec": {
   "display_name": "Python 3",
   "language": "python",
   "name": "python3"
  },
  "language_info": {
   "codemirror_mode": {
    "name": "ipython",
    "version": 3
   },
   "file_extension": ".py",
   "mimetype": "text/x-python",
   "name": "python",
   "nbconvert_exporter": "python",
   "pygments_lexer": "ipython3",
   "version": "3.12.0"
  }
 },
 "nbformat": 4,
 "nbformat_minor": 2
}
