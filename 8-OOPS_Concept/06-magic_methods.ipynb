{
 "cells": [
  {
   "cell_type": "markdown",
   "metadata": {},
   "source": [
    "### Magic Methods"
   ]
  },
  {
   "cell_type": "markdown",
   "metadata": {},
   "source": [
    "- It is also known as dunder methods(Double Underscore Methods).\n",
    "\n",
    "- These are special methods that start and end with double underscores.\n",
    "\n",
    "- These methods enable you to define the behaviour of objects for build-in \n",
    "operations."
   ]
  },
  {
   "cell_type": "markdown",
   "metadata": {},
   "source": [
    "#### Examples :"
   ]
  },
  {
   "cell_type": "code",
   "execution_count": 1,
   "metadata": {},
   "outputs": [
    {
     "data": {
      "text/plain": [
       "'\\n- __init__ : initialize a new instance of a class\\n- __str__ : returns a string representation of an object\\n- __repr__ : returns an official string representation of an object\\n- __len__ : returns the length of an object\\n- __getitem__ : gets an item from a container\\n- __setitem__ : sets an item in a container\\n'"
      ]
     },
     "execution_count": 1,
     "metadata": {},
     "output_type": "execute_result"
    }
   ],
   "source": [
    "\"\"\"\n",
    "- __init__ : initialize a new instance of a class\n",
    "- __str__ : returns a string representation of an object\n",
    "- __repr__ : returns an official string representation of an object\n",
    "- __len__ : returns the length of an object\n",
    "- __getitem__ : gets an item from a container\n",
    "- __setitem__ : sets an item in a container\n",
    "\"\"\""
   ]
  },
  {
   "cell_type": "code",
   "execution_count": 2,
   "metadata": {},
   "outputs": [
    {
     "data": {
      "text/plain": [
       "['__class__',\n",
       " '__delattr__',\n",
       " '__dict__',\n",
       " '__dir__',\n",
       " '__doc__',\n",
       " '__eq__',\n",
       " '__format__',\n",
       " '__ge__',\n",
       " '__getattribute__',\n",
       " '__getstate__',\n",
       " '__gt__',\n",
       " '__hash__',\n",
       " '__init__',\n",
       " '__init_subclass__',\n",
       " '__le__',\n",
       " '__lt__',\n",
       " '__module__',\n",
       " '__ne__',\n",
       " '__new__',\n",
       " '__reduce__',\n",
       " '__reduce_ex__',\n",
       " '__repr__',\n",
       " '__setattr__',\n",
       " '__sizeof__',\n",
       " '__str__',\n",
       " '__subclasshook__',\n",
       " '__weakref__']"
      ]
     },
     "execution_count": 2,
     "metadata": {},
     "output_type": "execute_result"
    }
   ],
   "source": [
    "# There are many magic methods in python\n",
    "class Person :\n",
    "    pass \n",
    "\n",
    "p1 = Person()\n",
    "dir(p1)"
   ]
  },
  {
   "cell_type": "code",
   "execution_count": 8,
   "metadata": {},
   "outputs": [
    {
     "name": "stdout",
     "output_type": "stream",
     "text": [
      "<__main__.Person object at 0x000002825FE519A0>\n",
      "<__main__.Person object at 0x000002825FE519A0>\n"
     ]
    }
   ],
   "source": [
    "## Basic Methods \n",
    "\n",
    "class Person :\n",
    "    def __init__(self,name,age) :\n",
    "        self.name = name\n",
    "        self.age = age\n",
    "\n",
    "person1 = Person('himesh',24)\n",
    "\n",
    "print(person1)\n",
    "print(repr(person1))"
   ]
  },
  {
   "cell_type": "code",
   "execution_count": 7,
   "metadata": {},
   "outputs": [
    {
     "name": "stdout",
     "output_type": "stream",
     "text": [
      "My name is himesh , I am 24 years old\n",
      "Person(name=himesh,age=himesh)\n"
     ]
    }
   ],
   "source": [
    "# Overriding __str__ & __repr__ method\n",
    "\n",
    "class Person :\n",
    "    def __init__(self,name,age) :\n",
    "        self.name = name\n",
    "        self.age = age\n",
    "\n",
    "    def __str__(self) :\n",
    "        return f\"My name is {self.name} , I am {self.age} years old\"\n",
    "    \n",
    "    def __repr__(self) :\n",
    "        return f'Person(name={self.name},age={self.name})'\n",
    "\n",
    "person1 = Person('himesh',24)\n",
    "print(person1)\n",
    "print(repr(person1))"
   ]
  }
 ],
 "metadata": {
  "kernelspec": {
   "display_name": "Python 3",
   "language": "python",
   "name": "python3"
  },
  "language_info": {
   "codemirror_mode": {
    "name": "ipython",
    "version": 3
   },
   "file_extension": ".py",
   "mimetype": "text/x-python",
   "name": "python",
   "nbconvert_exporter": "python",
   "pygments_lexer": "ipython3",
   "version": "3.12.0"
  }
 },
 "nbformat": 4,
 "nbformat_minor": 2
}
