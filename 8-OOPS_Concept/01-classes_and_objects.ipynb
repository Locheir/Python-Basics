{
 "cells": [
  {
   "cell_type": "markdown",
   "metadata": {},
   "source": [
    "#### Classes and Object"
   ]
  },
  {
   "cell_type": "markdown",
   "metadata": {},
   "source": [
    "- OOPS is an important part of Computer Programming.\n",
    "\n",
    "- It allows us to mode real-world senarios using classes and objects"
   ]
  },
  {
   "cell_type": "code",
   "execution_count": 1,
   "metadata": {},
   "outputs": [
    {
     "name": "stdout",
     "output_type": "stream",
     "text": [
      "<class '__main__.Car'>\n",
      "<class '__main__.Car'>\n"
     ]
    }
   ],
   "source": [
    "## Class : A Class is a Blueprint for creating Objects, Attributes and Methods.\n",
    "class Car :\n",
    "    pass\n",
    "\n",
    "audi = Car()\n",
    "bmw = Car()\n",
    "\n",
    "print(type(audi))\n",
    "print(type(bmw))"
   ]
  },
  {
   "cell_type": "code",
   "execution_count": 3,
   "metadata": {},
   "outputs": [
    {
     "name": "stdout",
     "output_type": "stream",
     "text": [
      "<__main__.Car object at 0x00000189CCF1C3B0>\n",
      "<__main__.Car object at 0x00000189CCF1E330>\n"
     ]
    }
   ],
   "source": [
    "print(audi)\n",
    "print(bmw)"
   ]
  },
  {
   "cell_type": "code",
   "execution_count": 10,
   "metadata": {},
   "outputs": [
    {
     "name": "stdout",
     "output_type": "stream",
     "text": [
      "<__main__.Dog object at 0x00000189CCF8DC40>\n",
      "Name : Buddy\n",
      "Age  : 3\n"
     ]
    }
   ],
   "source": [
    "### Instance Variable and Methods in Class\n",
    "class Dog :\n",
    "\n",
    "    # Constructor\n",
    "    def __init__(self,name,age):\n",
    "        self.name = name\n",
    "        self.age = age\n",
    "    \n",
    "## Create Objects \n",
    "dog1 = Dog('Buddy',3)\n",
    "print(dog1)\n",
    "print(\"Name :\",dog1.name)\n",
    "print(\"Age  :\",dog1.age)"
   ]
  },
  {
   "cell_type": "code",
   "execution_count": 11,
   "metadata": {},
   "outputs": [
    {
     "name": "stdout",
     "output_type": "stream",
     "text": [
      "Name : Lucy\n",
      "Age  : 7\n"
     ]
    }
   ],
   "source": [
    "dog2 = Dog('Lucy',7)\n",
    "print(\"Name :\",dog2.name)\n",
    "print(\"Age  :\",dog2.age)"
   ]
  },
  {
   "cell_type": "code",
   "execution_count": 15,
   "metadata": {},
   "outputs": [
    {
     "name": "stdout",
     "output_type": "stream",
     "text": [
      "Buddy says woof\n",
      "Lucy says woof\n"
     ]
    }
   ],
   "source": [
    "## Define a Class with Instance Method\n",
    "\n",
    "class Dog():\n",
    "    # Constructor\n",
    "    def __init__(self,name,age) :\n",
    "        self.name = name\n",
    "        self.age = age\n",
    "\n",
    "    def barking(self) :\n",
    "        print(f\"{self.name} says woof\")\n",
    "\n",
    "dog1 = Dog(\"Buddy\",3)\n",
    "dog1.barking()\n",
    "\n",
    "dog2 = Dog(\"Lucy\",5)\n",
    "dog2.barking()"
   ]
  },
  {
   "cell_type": "code",
   "execution_count": 17,
   "metadata": {},
   "outputs": [
    {
     "name": "stdout",
     "output_type": "stream",
     "text": [
      "5000\n"
     ]
    }
   ],
   "source": [
    "## Example : Modelling a bank account \n",
    "\n",
    "# Define a class for Bank Account \n",
    "class BankAccount :\n",
    "\n",
    "    def __init__(self,owner,balance=0) :\n",
    "        self.owner = owner\n",
    "        self.balance = balance\n",
    "\n",
    "    def deposit(self, amount) :\n",
    "        self.balance +=amount\n",
    "        print(f\"{amount} Rs are Deposited\")\n",
    "        print(f\"Current Account Balance : {self.balance}\")\n",
    "\n",
    "    def withdraw(self, amount) :\n",
    "        if amount > self.balance :\n",
    "            print(\"Insufficent Balance\")\n",
    "        else :\n",
    "            self.balance -=amount\n",
    "            print(f\"{amount} Rs has been Withdrawn\")\n",
    "            print(f\"Current Balance :{self.balance}\")\n",
    "\n",
    "    def getBalance(self) :\n",
    "        return self.balance\n",
    "    \n",
    "## Create an Account \n",
    "\n",
    "account = BankAccount(\"Mohit\",5000)\n",
    "print(account.balance)"
   ]
  },
  {
   "cell_type": "code",
   "execution_count": 18,
   "metadata": {},
   "outputs": [
    {
     "name": "stdout",
     "output_type": "stream",
     "text": [
      "1000 Rs are Deposited\n",
      "Current Account Balance : 6000\n"
     ]
    }
   ],
   "source": [
    "## Calling Deposit Function\n",
    "account.deposit(1000)"
   ]
  },
  {
   "cell_type": "code",
   "execution_count": 19,
   "metadata": {},
   "outputs": [
    {
     "name": "stdout",
     "output_type": "stream",
     "text": [
      "2000 Rs has been Withdrawn\n",
      "Current Balance :4000\n"
     ]
    }
   ],
   "source": [
    "## Calling Withdraw Function\n",
    "account.withdraw(2000)"
   ]
  },
  {
   "cell_type": "code",
   "execution_count": 21,
   "metadata": {},
   "outputs": [
    {
     "name": "stdout",
     "output_type": "stream",
     "text": [
      "Account Balance : 4000\n"
     ]
    }
   ],
   "source": [
    "## Calling getBalance Function\n",
    "print(\"Account Balance :\",account.getBalance())"
   ]
  }
 ],
 "metadata": {
  "kernelspec": {
   "display_name": "Python 3",
   "language": "python",
   "name": "python3"
  },
  "language_info": {
   "codemirror_mode": {
    "name": "ipython",
    "version": 3
   },
   "file_extension": ".py",
   "mimetype": "text/x-python",
   "name": "python",
   "nbconvert_exporter": "python",
   "pygments_lexer": "ipython3",
   "version": "3.12.0"
  }
 },
 "nbformat": 4,
 "nbformat_minor": 2
}
