{
 "cells": [
  {
   "cell_type": "markdown",
   "metadata": {},
   "source": [
    "### Operator Overloading"
   ]
  },
  {
   "cell_type": "code",
   "execution_count": 1,
   "metadata": {},
   "outputs": [
    {
     "data": {
      "text/plain": [
       "'\\n    __add__(self, other) : Add two objects using the + operator\\n    __sub__(self, other) : Subtracting two objects using the - operator\\n    __mul__(self, other) : Multiply two objects using the * operator\\n    __truediv__(self, other) : Divides two objects using the / operator\\n    __eq__(self, other) : Checks if two objects are equal using the == operator\\n    __lt__(self, other) : Checks if one object is less than another using the < operator\\n'"
      ]
     },
     "execution_count": 1,
     "metadata": {},
     "output_type": "execute_result"
    }
   ],
   "source": [
    "## Common Operator Overloading Magic Methods\n",
    "\n",
    "\"\"\"\n",
    "    __add__(self, other) : Add two objects using the + operator\n",
    "    __sub__(self, other) : Subtracting two objects using the - operator\n",
    "    __mul__(self, other) : Multiply two objects using the * operator\n",
    "    __truediv__(self, other) : Divides two objects using the / operator\n",
    "    __eq__(self, other) : Checks if two objects are equal using the == operator\n",
    "    __lt__(self, other) : Checks if one object is less than another using the < operator\n",
    "\"\"\""
   ]
  },
  {
   "cell_type": "code",
   "execution_count": 4,
   "metadata": {},
   "outputs": [
    {
     "name": "stdout",
     "output_type": "stream",
     "text": [
      "2\n",
      "7\n",
      "True\n"
     ]
    }
   ],
   "source": [
    "# Normally using +,-,>,etc operator\n",
    "print(1 + 1)\n",
    "print(10 - 3)\n",
    "print(12>3)"
   ]
  },
  {
   "cell_type": "code",
   "execution_count": 15,
   "metadata": {},
   "outputs": [
    {
     "name": "stdout",
     "output_type": "stream",
     "text": [
      "Vector( 13 , 15 )\n",
      "Vector( 7 , 7 )\n",
      "Vector( 30 , 44 )\n",
      "True\n"
     ]
    }
   ],
   "source": [
    "class Vector :\n",
    "    def __init__(self,x,y) :\n",
    "        self.x = x\n",
    "        self.y = y\n",
    "\n",
    "    def __add__(self, other) :\n",
    "        return Vector(self.x + other.x,self.y + other.y)\n",
    "    \n",
    "    def __sub__(self, other) :\n",
    "        return Vector(self.x - other.x, self.y - other.y) \n",
    "    \n",
    "    def __mul__(self, other) :\n",
    "        return Vector(self.x * other.x, self.y * other.y)\n",
    "    \n",
    "    def __eq__(self, other) :\n",
    "        return self.x == other.x and self.y == other.y\n",
    "    \n",
    "    def __repr__(self) :\n",
    "        return f\"Vector( {self.x} , {self.y} )\"\n",
    "    \n",
    "v1 = Vector(10,11)\n",
    "v2 = Vector(3,4)\n",
    "v3 = Vector(3,4)\n",
    "\n",
    "v_add = v1 + v2\n",
    "print(repr(v_add))\n",
    "\n",
    "v_sub = v1 - v2\n",
    "print(repr(v_sub))\n",
    "\n",
    "v_mul = v1 * v2\n",
    "print(repr(v_mul))\n",
    "\n",
    "print(v3 == v2)"
   ]
  },
  {
   "cell_type": "code",
   "execution_count": 17,
   "metadata": {},
   "outputs": [
    {
     "name": "stdout",
     "output_type": "stream",
     "text": [
      "3 + 7i\n",
      "1 + -1i\n",
      "2 + 12i\n",
      "0.8235294117647058 + -0.29411764705882354i\n",
      "False\n"
     ]
    }
   ],
   "source": [
    "## Overloading Operators for Complex Numbers\n",
    "\n",
    "class ComplexNumber() :\n",
    "\n",
    "    def __init__(self,real,imaginary) :\n",
    "        self.real = real\n",
    "        self.imaginary = imaginary\n",
    "\n",
    "    def __add__(self, other) :\n",
    "        real_part = self.real + other.real\n",
    "        img_part = self.imaginary + other.imaginary\n",
    "        return ComplexNumber(real_part,img_part)\n",
    "    \n",
    "    def __sub__(self, other) :\n",
    "        real_part = self.real - other.real\n",
    "        img_part = self.imaginary - other.imaginary\n",
    "        return ComplexNumber(real_part,img_part)\n",
    "    \n",
    "    def __mul__(self, other) :\n",
    "        real_part = self.real * other.real\n",
    "        img_part = self.imaginary * other.imaginary\n",
    "        return ComplexNumber(real_part,img_part)\n",
    "    \n",
    "    def __truediv__(self, other) :\n",
    "        denominator = other.real**2 + other.imaginary**2\n",
    "        real_part = (self.real * other.real + self.imaginary * other.imaginary) / denominator\n",
    "        img_part = (self.imaginary * other.real - self.real * other.imaginary) /denominator\n",
    "        return ComplexNumber(real_part, img_part)\n",
    "    \n",
    "    def __eq__(self, other) :\n",
    "        return self.real == other.real and self.imaginary == other.imaginary\n",
    "    \n",
    "    def __repr__(self) :\n",
    "        return f\"{self.real} + {self.imaginary}i\"\n",
    "    \n",
    "# Create Objects \n",
    "c1 = ComplexNumber(2,3)\n",
    "c2 = ComplexNumber(1,4)\n",
    "\n",
    "# Use Overloaded Operators \n",
    "print(c1 + c2)\n",
    "print(c1 - c2)\n",
    "print(c1 * c2)\n",
    "print(c1 / c2)\n",
    "print(c1 == c2)\n",
    "\n"
   ]
  }
 ],
 "metadata": {
  "kernelspec": {
   "display_name": "Python 3",
   "language": "python",
   "name": "python3"
  },
  "language_info": {
   "codemirror_mode": {
    "name": "ipython",
    "version": 3
   },
   "file_extension": ".py",
   "mimetype": "text/x-python",
   "name": "python",
   "nbconvert_exporter": "python",
   "pygments_lexer": "ipython3",
   "version": "3.12.0"
  }
 },
 "nbformat": 4,
 "nbformat_minor": 2
}
