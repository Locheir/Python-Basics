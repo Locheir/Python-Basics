{
 "cells": [
  {
   "cell_type": "markdown",
   "metadata": {},
   "source": [
    "### Encapsulation"
   ]
  },
  {
   "cell_type": "markdown",
   "metadata": {},
   "source": [
    "- Encapsulation means wrapping attributes and function as a single unit."
   ]
  },
  {
   "cell_type": "code",
   "execution_count": 5,
   "metadata": {},
   "outputs": [
    {
     "data": {
      "text/plain": [
       "'Mohit'"
      ]
     },
     "execution_count": 5,
     "metadata": {},
     "output_type": "execute_result"
    }
   ],
   "source": [
    "### Encapsulation with Getter and Setter Methods\n",
    "\n",
    "## Access Modifiers : Public , Protected and Private Variables\n",
    "\n",
    "class Person :\n",
    "    \n",
    "    def __init__(self,name,age) :\n",
    "        self.name = name   # public variable\n",
    "        self.age = age     # public variable\n",
    "\n",
    "def get_name(person) :\n",
    "    return person.name\n",
    "\n",
    "p1 = Person('Mohit',21)\n",
    "get_name(p1)"
   ]
  },
  {
   "cell_type": "code",
   "execution_count": 6,
   "metadata": {},
   "outputs": [
    {
     "data": {
      "text/plain": [
       "['__class__',\n",
       " '__delattr__',\n",
       " '__dict__',\n",
       " '__dir__',\n",
       " '__doc__',\n",
       " '__eq__',\n",
       " '__format__',\n",
       " '__ge__',\n",
       " '__getattribute__',\n",
       " '__getstate__',\n",
       " '__gt__',\n",
       " '__hash__',\n",
       " '__init__',\n",
       " '__init_subclass__',\n",
       " '__le__',\n",
       " '__lt__',\n",
       " '__module__',\n",
       " '__ne__',\n",
       " '__new__',\n",
       " '__reduce__',\n",
       " '__reduce_ex__',\n",
       " '__repr__',\n",
       " '__setattr__',\n",
       " '__sizeof__',\n",
       " '__str__',\n",
       " '__subclasshook__',\n",
       " '__weakref__',\n",
       " 'age',\n",
       " 'name']"
      ]
     },
     "execution_count": 6,
     "metadata": {},
     "output_type": "execute_result"
    }
   ],
   "source": [
    "# Functions/Variables that can be used :\n",
    "# There are 'name' and 'age' in this list\n",
    "dir(p1)"
   ]
  },
  {
   "cell_type": "code",
   "execution_count": 7,
   "metadata": {},
   "outputs": [],
   "source": [
    "# Creating a Private Variable:\n",
    "\n",
    "class Person :\n",
    "    \n",
    "    def __init__(self,name,age,gender) :\n",
    "        self.__name = name   # private variable\n",
    "        self.__age = age     # private variable\n",
    "        self.gender = gender # public variable\n",
    "\n",
    "def get_name(person) :\n",
    "    return person.__name"
   ]
  },
  {
   "cell_type": "code",
   "execution_count": 8,
   "metadata": {},
   "outputs": [
    {
     "data": {
      "text/plain": [
       "['_Person__age',\n",
       " '_Person__name',\n",
       " '__class__',\n",
       " '__delattr__',\n",
       " '__dict__',\n",
       " '__dir__',\n",
       " '__doc__',\n",
       " '__eq__',\n",
       " '__format__',\n",
       " '__ge__',\n",
       " '__getattribute__',\n",
       " '__getstate__',\n",
       " '__gt__',\n",
       " '__hash__',\n",
       " '__init__',\n",
       " '__init_subclass__',\n",
       " '__le__',\n",
       " '__lt__',\n",
       " '__module__',\n",
       " '__ne__',\n",
       " '__new__',\n",
       " '__reduce__',\n",
       " '__reduce_ex__',\n",
       " '__repr__',\n",
       " '__setattr__',\n",
       " '__sizeof__',\n",
       " '__str__',\n",
       " '__subclasshook__',\n",
       " '__weakref__',\n",
       " 'gender']"
      ]
     },
     "execution_count": 8,
     "metadata": {},
     "output_type": "execute_result"
    }
   ],
   "source": [
    "# We cannot se the variable 'name' and 'age' in dir() list as they are private\n",
    "# But we can see 'gender' as it is public variable\n",
    "\n",
    "p2 = Person('Yash',22,'male')\n",
    "dir(p2)\n",
    "\n",
    "# get_name(p2) ## This line will give an error as __name is private variable"
   ]
  },
  {
   "cell_type": "code",
   "execution_count": 14,
   "metadata": {},
   "outputs": [
    {
     "name": "stdout",
     "output_type": "stream",
     "text": [
      "Name : Mohit\n"
     ]
    }
   ],
   "source": [
    "## Protected Variable : Can be accessed only by derived class\n",
    "\n",
    "class Person :\n",
    "    def __init__(self,name,age,gender) :\n",
    "        self._name = name\n",
    "        self._age = age\n",
    "        self._gender = gender\n",
    "    \n",
    "class Employee(Person) :\n",
    "    def __init__(self,name,age,gender) :\n",
    "        super().__init__(name,age,gender)\n",
    " \n",
    "e1 = Employee('Mohit',21,'Male')\n",
    "print(\"Name :\",e1._name)"
   ]
  },
  {
   "cell_type": "code",
   "execution_count": 15,
   "metadata": {},
   "outputs": [
    {
     "name": "stdout",
     "output_type": "stream",
     "text": [
      "Rahul\n",
      "19\n",
      "35\n",
      "Age Cannot Be Negative\n"
     ]
    }
   ],
   "source": [
    "## Encapsulation with getter and setter method \n",
    "\n",
    "class Person :\n",
    "    def __init__(self,name,age) :\n",
    "        self.__name = name\n",
    "        self.__age = age\n",
    "\n",
    "    def get_name(self) : \n",
    "        return self.__name\n",
    "    \n",
    "    def get_age(self) :\n",
    "        return self.__age\n",
    "    \n",
    "    def set_name(self,name) :\n",
    "        self.__name = name\n",
    "\n",
    "    def set_age(self,age) :\n",
    "        if age > 0:\n",
    "            self.__age = age\n",
    "        else :\n",
    "            print(\"Age Cannot Be Negative\")\n",
    "\n",
    "p1 = Person(\"Rahul\",19)\n",
    "\n",
    "print(p1.get_name())\n",
    "print(p1.get_age())\n",
    "\n",
    "p1.set_age(35)\n",
    "print(p1.get_age())\n",
    "\n",
    "p1.set_age(-11)\n"
   ]
  }
 ],
 "metadata": {
  "kernelspec": {
   "display_name": "Python 3",
   "language": "python",
   "name": "python3"
  },
  "language_info": {
   "codemirror_mode": {
    "name": "ipython",
    "version": 3
   },
   "file_extension": ".py",
   "mimetype": "text/x-python",
   "name": "python",
   "nbconvert_exporter": "python",
   "pygments_lexer": "ipython3",
   "version": "3.12.0"
  }
 },
 "nbformat": 4,
 "nbformat_minor": 2
}
