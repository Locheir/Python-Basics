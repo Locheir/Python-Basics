{
 "cells": [
  {
   "cell_type": "markdown",
   "metadata": {},
   "source": [
    "### Polymorphism"
   ]
  },
  {
   "cell_type": "markdown",
   "metadata": {},
   "source": [
    "- 'poly' means many and 'morph' means shape i.e.(polymorphism ==> Many Forms)\n",
    "\n",
    "- It is a way to perform a single action in many forms\n",
    "\n",
    "- It is achieved through method overriding or interfaces"
   ]
  },
  {
   "cell_type": "code",
   "execution_count": 4,
   "metadata": {},
   "outputs": [
    {
     "name": "stdout",
     "output_type": "stream",
     "text": [
      "Woof!\n",
      "Meow!\n"
     ]
    }
   ],
   "source": [
    "## Method Overriding :\n",
    "\n",
    "# It allows a child class to provide a specific implementation of a \n",
    "# method that is already defined in it's parent class\n",
    "\n",
    "# Base Class\n",
    "class Animal :\n",
    "    def speak(self) :\n",
    "        return \"Sound of the Animal\"\n",
    "    \n",
    "class Dog(Animal) :\n",
    "    def speak(self) :\n",
    "        return \"Woof!\"\n",
    "\n",
    "class Cat(Animal): \n",
    "    def speak(self) :\n",
    "        return \"Meow!\"\n",
    "\n",
    "# Function that Demonstates Polymorphism \n",
    "def animal_speak(animal) :\n",
    "    print(animal.speak())\n",
    "\n",
    "d1 = Dog()\n",
    "animal_speak(d1)\n",
    "\n",
    "c1 = Cat()\n",
    "animal_speak(c1)"
   ]
  },
  {
   "cell_type": "code",
   "execution_count": 5,
   "metadata": {},
   "outputs": [
    {
     "name": "stdout",
     "output_type": "stream",
     "text": [
      "The Area is 20\n",
      "The Area is 28.274333882308138\n"
     ]
    }
   ],
   "source": [
    "### Polymorphism : Functions and Methods\n",
    "import math\n",
    "\n",
    "\n",
    "# Base Class \n",
    "class Shape :\n",
    "\n",
    "    def area(self) :\n",
    "        return \"The area of the Figure\"\n",
    "    \n",
    "# Derived Classes\n",
    "class Rectangle(Shape) :\n",
    "\n",
    "    def __init__(self,width,height) :\n",
    "        self.width = width\n",
    "        self.height = height\n",
    "\n",
    "    def area(self) :\n",
    "        return self.width * self.height\n",
    "    \n",
    "class Circle(Shape) :\n",
    "\n",
    "    def __init__(self,radius) :\n",
    "        self.radius = radius \n",
    "\n",
    "    def area(self):\n",
    "        return math.pi * self.radius * self.radius\n",
    "    \n",
    "\n",
    "## Function that Demonstrates Polymorphism\n",
    "def print_area(shape) :\n",
    "    print(f\"The Area is {shape.area()}\")\n",
    "\n",
    "\n",
    "## Creating Objects \n",
    "reactangle = Rectangle(4,5) \n",
    "circle = Circle(3)\n",
    "\n",
    "print_area(reactangle)\n",
    "print_area(circle)"
   ]
  },
  {
   "cell_type": "code",
   "execution_count": 6,
   "metadata": {},
   "outputs": [
    {
     "name": "stdout",
     "output_type": "stream",
     "text": [
      "Car Engine Started\n",
      "Motorcycle Engine Started\n"
     ]
    }
   ],
   "source": [
    "## Polymorphism with Abstract Base Class\n",
    "\n",
    "# Abstract Base Classes (ABCs) are used to define common methods for a group of related objects.\n",
    "from abc import ABC,abstractmethod\n",
    "\n",
    "## Define an Abstract Class \n",
    "class Vehicle(ABC) :\n",
    "\n",
    "    @abstractmethod \n",
    "    def start_engine(self) :\n",
    "        pass\n",
    "\n",
    "## Derived Class 1\n",
    "class Car(Vehicle) :\n",
    "    def start_engine(self) :\n",
    "        return \"Car Engine Started\"\n",
    "    \n",
    "## Derived Class 2\n",
    "class Motorcycle(Vehicle) :\n",
    "    def start_engine(self):\n",
    "        return \"Motorcycle Engine Started\"\n",
    "    \n",
    "\n",
    "# Function that demonstrates polymorphism\n",
    "def start_vehicle(vehicle) :\n",
    "    print(vehicle.start_engine())\n",
    "\n",
    "\n",
    "## Create Objects of Car and Motorcycle Classes\n",
    "\n",
    "c1 = Car()\n",
    "mc1 = Motorcycle()\n",
    "\n",
    "start_vehicle(c1)\n",
    "start_vehicle(mc1)\n"
   ]
  }
 ],
 "metadata": {
  "kernelspec": {
   "display_name": "Python 3",
   "language": "python",
   "name": "python3"
  },
  "language_info": {
   "codemirror_mode": {
    "name": "ipython",
    "version": 3
   },
   "file_extension": ".py",
   "mimetype": "text/x-python",
   "name": "python",
   "nbconvert_exporter": "python",
   "pygments_lexer": "ipython3",
   "version": "3.12.0"
  }
 },
 "nbformat": 4,
 "nbformat_minor": 2
}
