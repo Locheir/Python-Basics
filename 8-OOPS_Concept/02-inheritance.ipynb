{
 "cells": [
  {
   "cell_type": "markdown",
   "metadata": {},
   "source": [
    "### Inheritance in Python"
   ]
  },
  {
   "cell_type": "markdown",
   "metadata": {},
   "source": [
    "- It is a concept that allows a class to inherit attributes and methods from another class.\n",
    "\n",
    "- There are types of Inheritance:\n",
    "    - Single Inheritance;\n",
    "    - Multiple Inheritance;\n",
    "    - Hierarchical Inheritance;\n"
   ]
  },
  {
   "cell_type": "code",
   "execution_count": 15,
   "metadata": {},
   "outputs": [],
   "source": [
    "## Single Inheritance :\n",
    "\n",
    "# Parent Class\n",
    "class Car :\n",
    "\n",
    "    # Constructor\n",
    "    def __init__(self,windows,doors,engine_type) :\n",
    "        self.windows = windows\n",
    "        self.doors = doors\n",
    "        self.engine_type = engine_type\n",
    "\n",
    "    def drive(self) :\n",
    "        print(f\"The Person will drive {self.engine_type} car.\")\n",
    "\n"
   ]
  },
  {
   "cell_type": "code",
   "execution_count": 16,
   "metadata": {},
   "outputs": [
    {
     "name": "stdout",
     "output_type": "stream",
     "text": [
      "The Person will drive Petrol car.\n"
     ]
    }
   ],
   "source": [
    "car1 = Car(4,5,'Petrol')\n",
    "car1.drive()"
   ]
  },
  {
   "cell_type": "code",
   "execution_count": 17,
   "metadata": {},
   "outputs": [],
   "source": [
    "# Child Car \n",
    "class Tesla(Car):\n",
    "\n",
    "    # Constructor\n",
    "    def __init__(self, windows, doors, engine_type, is_self_driving) :\n",
    "        super().__init__(windows, doors, engine_type)\n",
    "        self.is_self_driving = is_self_driving\n",
    "\n",
    "    def self_driving(self) :\n",
    "        print(f\"Tesla Supports self driving : {self.is_self_driving}\")"
   ]
  },
  {
   "cell_type": "code",
   "execution_count": 18,
   "metadata": {},
   "outputs": [
    {
     "name": "stdout",
     "output_type": "stream",
     "text": [
      "Tesla Supports self driving : True\n"
     ]
    }
   ],
   "source": [
    "tesla1 = Tesla(4,5,'electric',True)\n",
    "tesla1.self_driving()"
   ]
  },
  {
   "cell_type": "code",
   "execution_count": 19,
   "metadata": {},
   "outputs": [
    {
     "name": "stdout",
     "output_type": "stream",
     "text": [
      "The Person will drive electric car.\n"
     ]
    }
   ],
   "source": [
    "tesla1.drive()"
   ]
  },
  {
   "cell_type": "code",
   "execution_count": 21,
   "metadata": {},
   "outputs": [],
   "source": [
    "## Multiple Inheritance \n",
    "\n",
    "# When a Class Inherits from more than one Base Class\n",
    " \n",
    "class Animal : # Base Class 1\n",
    "\n",
    "    # Constructor\n",
    "    def __init__(self, name) :\n",
    "        self.name = name\n",
    "\n",
    "    def speak(self) :\n",
    "        print(\"Subclasses must Implement this method\")\n",
    "\n",
    "class Pet : # Base Class 2\n",
    "\n",
    "    # Constructor\n",
    "    def __init__(self, owner) :\n",
    "        self.owner = owner\n",
    "\n",
    "# Derived Class\n",
    "class Dog(Animal, Pet) :\n",
    "\n",
    "    # Constructor\n",
    "    def __init__(self,name,owner) :\n",
    "        Animal.__init__(self , name)\n",
    "        Pet.__init__(self , owner)\n",
    "\n",
    "    def speak(self) :\n",
    "        return f\"{self.name} says woof\"\n"
   ]
  },
  {
   "cell_type": "code",
   "execution_count": 25,
   "metadata": {},
   "outputs": [
    {
     "name": "stdout",
     "output_type": "stream",
     "text": [
      "Buddy says woof\n",
      "Owner : Mohit\n"
     ]
    }
   ],
   "source": [
    "## Create an Object \n",
    "dog = Dog('Buddy','Mohit')\n",
    "print(dog.speak())\n",
    "print(f\"Owner : {dog.owner}\")"
   ]
  }
 ],
 "metadata": {
  "kernelspec": {
   "display_name": "Python 3",
   "language": "python",
   "name": "python3"
  },
  "language_info": {
   "codemirror_mode": {
    "name": "ipython",
    "version": 3
   },
   "file_extension": ".py",
   "mimetype": "text/x-python",
   "name": "python",
   "nbconvert_exporter": "python",
   "pygments_lexer": "ipython3",
   "version": "3.12.0"
  }
 },
 "nbformat": 4,
 "nbformat_minor": 2
}
