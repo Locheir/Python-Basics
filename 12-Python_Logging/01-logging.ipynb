{
 "cells": [
  {
   "cell_type": "markdown",
   "metadata": {},
   "source": [
    "### Python Logging : "
   ]
  },
  {
   "cell_type": "markdown",
   "metadata": {},
   "source": [
    "- Logging is a crucial aspect of any application, providing a way to track events, errors, and operational information.\n",
    "\n",
    "- Python's build-in logging module offers a flexible framework for emitting log messages from Python programs."
   ]
  },
  {
   "cell_type": "code",
   "execution_count": 4,
   "metadata": {},
   "outputs": [
    {
     "name": "stderr",
     "output_type": "stream",
     "text": [
      "DEBUG:root:This is a debug message\n",
      "INFO:root:This is an info message\n",
      "WARNING:root:This is an warning message\n",
      "ERROR:root:This is an error message\n",
      "CRITICAL:root:This is a critical message\n"
     ]
    }
   ],
   "source": [
    "# Importing Library :\n",
    "import logging \n",
    "\n",
    "## Cofigure the basic Logging Settings : \n",
    "logging.basicConfig(level=logging.DEBUG)\n",
    "\n",
    "## Log Messages : \n",
    "logging.debug('This is a debug message')\n",
    "logging.info('This is an info message')\n",
    "logging.warning('This is an warning message')\n",
    "logging.error('This is an error message')\n",
    "logging.critical('This is a critical message')"
   ]
  },
  {
   "cell_type": "markdown",
   "metadata": {},
   "source": [
    "### Log Levels :  "
   ]
  },
  {
   "cell_type": "markdown",
   "metadata": {},
   "source": [
    "- DEBUG : Detailed info about diagnosing problems.\n",
    "\n",
    "- INFO : Conforming things are working well.\n",
    "\n",
    "- WARNING : Warning messages usually indicate that something unexpected happened at runtime.\n",
    "\n",
    "- ERROR : Error messages are usually displayed in red color, and they point out the probable cause of a problem or error situation.\n",
    "\n",
    "- CRITICAL : Critical messages are usually displayed in blue color, and they point out the probable cause of a critical situation."
   ]
  },
  {
   "cell_type": "code",
   "execution_count": 1,
   "metadata": {},
   "outputs": [],
   "source": [
    "# After defining logging.basicConfig restart the kernel and run this specific block.\n",
    "# Import Logging : \n",
    "import logging\n",
    "\n",
    "## Configuring logging :\n",
    "logging.basicConfig(\n",
    "    filename='app.log',\n",
    "    level = logging.DEBUG,\n",
    "    format='%(asctime)s-%(name)s-%(levelname)s-%(message)s',\n",
    "    datefmt='%Y-%m-%d %H:%M:%S'\n",
    ")\n",
    "\n",
    "logging.debug('This is a debug message')\n",
    "logging.info('This is an info message')\n",
    "logging.warning('This is an warning message')\n",
    "logging.error('This is an error message')\n",
    "logging.critical('This is a critical message')"
   ]
  },
  {
   "cell_type": "code",
   "execution_count": 3,
   "metadata": {},
   "outputs": [],
   "source": [
    "logging.debug('Add to log file')"
   ]
  },
  {
   "cell_type": "code",
   "execution_count": null,
   "metadata": {},
   "outputs": [],
   "source": []
  }
 ],
 "metadata": {
  "kernelspec": {
   "display_name": "Python 3",
   "language": "python",
   "name": "python3"
  },
  "language_info": {
   "codemirror_mode": {
    "name": "ipython",
    "version": 3
   },
   "file_extension": ".py",
   "mimetype": "text/x-python",
   "name": "python",
   "nbconvert_exporter": "python",
   "pygments_lexer": "ipython3",
   "version": "3.12.0"
  }
 },
 "nbformat": 4,
 "nbformat_minor": 2
}
