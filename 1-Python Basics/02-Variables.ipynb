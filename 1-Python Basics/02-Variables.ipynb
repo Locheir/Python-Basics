{
 "cells": [
  {
   "cell_type": "markdown",
   "metadata": {},
   "source": [
    "### Variables"
   ]
  },
  {
   "cell_type": "markdown",
   "metadata": {},
   "source": [
    "- Fundamental Elements in Programming.\n",
    "- Like container that store Data.\n",
    "- We need to follow some rules to Declare Variables"
   ]
  },
  {
   "cell_type": "code",
   "execution_count": 1,
   "metadata": {},
   "outputs": [],
   "source": [
    "# Creating a variable 'a' and storing 100 value inside it :\n",
    "\n",
    "a = 100 "
   ]
  },
  {
   "cell_type": "code",
   "execution_count": 3,
   "metadata": {},
   "outputs": [
    {
     "name": "stdout",
     "output_type": "stream",
     "text": [
      "Age : 32\n",
      "Height : 6.1\n",
      "Name : Krishna\n",
      "Is Student : True\n"
     ]
    }
   ],
   "source": [
    "# Declaring and Assigning Variables : \n",
    "\n",
    "age = 32 \n",
    "height = 6.1\n",
    "name = 'Krishna'\n",
    "is_student = True \n",
    "\n",
    "# Printing the Variables : \n",
    "\n",
    "print('Age :',age)\n",
    "print('Height :',height)\n",
    "print('Name :',name)\n",
    "print('Is Student :',is_student)"
   ]
  },
  {
   "cell_type": "code",
   "execution_count": 4,
   "metadata": {},
   "outputs": [],
   "source": [
    "## Naming Convention :\n",
    "\n",
    "# -> Variable name should be Descriptive(Proper Meaning behind Name).\n",
    "# -> Must always start with a letter a to z or an '_'.\n",
    "# -> Variables must contain letters, number or underscores.\n",
    "# -> Variable names are Case Sensitive.\n",
    "\n",
    "first_name = 'Mohit'\n",
    "last_name = 'Naik'\n"
   ]
  },
  {
   "cell_type": "code",
   "execution_count": 5,
   "metadata": {},
   "outputs": [],
   "source": [
    "# Invalid Number Names :\n",
    "\n",
    "# 2age = 30 \n",
    "# first-name = 'Krishna'\n",
    "# @name = 'Ram'"
   ]
  },
  {
   "cell_type": "code",
   "execution_count": 7,
   "metadata": {},
   "outputs": [
    {
     "name": "stdout",
     "output_type": "stream",
     "text": [
      "Faiz\n",
      "Vinit\n"
     ]
    }
   ],
   "source": [
    "## Case Sensitivity :\n",
    "\n",
    "name = 'Faiz'\n",
    "Name = 'Vinit'\n",
    "\n",
    "print(name)\n",
    "print(Name)"
   ]
  },
  {
   "cell_type": "code",
   "execution_count": 8,
   "metadata": {},
   "outputs": [],
   "source": [
    "## Understanding Variable Types : \n",
    "\n",
    "# Python is Dynamically Typed i.e. type of variable is determined at Runtime.\n",
    "\n",
    "age = 25          # int\n",
    "height = 5.8      # float\n",
    "name = 'Om'       # str\n",
    "is_adult = True   # bool"
   ]
  },
  {
   "cell_type": "code",
   "execution_count": 9,
   "metadata": {},
   "outputs": [
    {
     "data": {
      "text/plain": [
       "float"
      ]
     },
     "execution_count": 9,
     "metadata": {},
     "output_type": "execute_result"
    }
   ],
   "source": [
    "## Type Checking and Conversion :\n",
    "\n",
    "height = 164.7\n",
    "type(height)"
   ]
  },
  {
   "cell_type": "code",
   "execution_count": 12,
   "metadata": {},
   "outputs": [
    {
     "name": "stdout",
     "output_type": "stream",
     "text": [
      "<class 'int'>\n",
      "25\n",
      "<class 'str'>\n"
     ]
    }
   ],
   "source": [
    "age = 25 \n",
    "print(type(age))\n",
    "\n",
    "# Type Conversion :\n",
    "\n",
    "age_str = str(age)\n",
    "print(age_str)\n",
    "print(type(age_str))"
   ]
  },
  {
   "cell_type": "code",
   "execution_count": 14,
   "metadata": {},
   "outputs": [
    {
     "name": "stdout",
     "output_type": "stream",
     "text": [
      "<class 'int'>\n"
     ]
    }
   ],
   "source": [
    "# Converting String to int \n",
    "\n",
    "age = '25'\n",
    "\n",
    "print(type(int(age)))"
   ]
  },
  {
   "cell_type": "code",
   "execution_count": 26,
   "metadata": {},
   "outputs": [],
   "source": [
    "## This is Invalid :\n",
    "\n",
    "# name = 'Mohit'\n",
    "# int(name)"
   ]
  },
  {
   "cell_type": "code",
   "execution_count": 19,
   "metadata": {},
   "outputs": [
    {
     "name": "stdout",
     "output_type": "stream",
     "text": [
      "5\n",
      "5.0\n"
     ]
    }
   ],
   "source": [
    "height = 5.11\n",
    "type(height)\n",
    "\n",
    "# Converting float to int :\n",
    "\n",
    "print(int(height))\n",
    "\n",
    "# Coverting int to float : \n",
    "\n",
    "print(float(int(height)))"
   ]
  },
  {
   "cell_type": "code",
   "execution_count": 21,
   "metadata": {},
   "outputs": [
    {
     "name": "stdout",
     "output_type": "stream",
     "text": [
      "10 <class 'int'>\n",
      "Hello <class 'str'>\n",
      "3.14 <class 'float'>\n"
     ]
    }
   ],
   "source": [
    "# Dynamic Typing : \n",
    "\n",
    "var = 10 \n",
    "print(var,type(var))\n",
    "\n",
    "# Python allows the type of variable as the program executes.\n",
    "# This is not the case with other programming languages.\n",
    "\n",
    "var = 'Hello'\n",
    "print(var,type(var))\n",
    "\n",
    "var = 3.14\n",
    "print(var,type(var))"
   ]
  },
  {
   "cell_type": "code",
   "execution_count": 24,
   "metadata": {},
   "outputs": [
    {
     "name": "stdout",
     "output_type": "stream",
     "text": [
      "23 <class 'str'>\n",
      "21 <class 'int'>\n"
     ]
    }
   ],
   "source": [
    "## Input :\n",
    "\n",
    "age = input(\"What is the Age ?\")\n",
    "print(age,type(age))\n",
    "\n",
    "# By default the input we take is stored in form of string type.\n",
    "# We can perform type casting while storing the value for different data types.\n",
    "\n",
    "age = int(input(\"Enter your Age ?\"))\n",
    "print(age,type(age))"
   ]
  },
  {
   "cell_type": "code",
   "execution_count": 25,
   "metadata": {},
   "outputs": [
    {
     "name": "stdout",
     "output_type": "stream",
     "text": [
      "Sum : 15.0\n",
      "Difference : 5.0\n",
      "Product : 50.0\n",
      "Quotient : 2.0\n"
     ]
    }
   ],
   "source": [
    "### Creating a Simple Calculator : \n",
    "\n",
    "num1 = float(input(\"Enter First Number :\"))\n",
    "num2 = float(input(\"Enter Second Number :\"))\n",
    "\n",
    "sum = num1 + num2\n",
    "difference = num1 - num2\n",
    "product = num1 * num2\n",
    "quotient = num1 / num2\n",
    "\n",
    "print(\"Sum :\",sum)\n",
    "print(\"Difference :\",difference)\n",
    "print(\"Product :\",product)\n",
    "print(\"Quotient :\",quotient)\n"
   ]
  },
  {
   "cell_type": "code",
   "execution_count": null,
   "metadata": {},
   "outputs": [],
   "source": []
  }
 ],
 "metadata": {
  "kernelspec": {
   "display_name": "Python 3",
   "language": "python",
   "name": "python3"
  },
  "language_info": {
   "codemirror_mode": {
    "name": "ipython",
    "version": 3
   },
   "file_extension": ".py",
   "mimetype": "text/x-python",
   "name": "python",
   "nbconvert_exporter": "python",
   "pygments_lexer": "ipython3",
   "version": "3.12.0"
  }
 },
 "nbformat": 4,
 "nbformat_minor": 2
}
