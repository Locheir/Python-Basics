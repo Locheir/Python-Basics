{
 "cells": [
  {
   "cell_type": "markdown",
   "metadata": {},
   "source": [
    "### Operators"
   ]
  },
  {
   "cell_type": "markdown",
   "metadata": {
    "vscode": {
     "languageId": "plaintext"
    }
   },
   "source": [
    "Basic Operations in Python :-\n",
    "\n",
    "- Arithmetic Operators\n",
    "    - Addition (+)\n",
    "    - Subtraction (-)\n",
    "    - Multiplication (*)\n",
    "    - Division (/)\n",
    "    - Floor Division (//)\n",
    "    - Modulus (%)\n",
    "    - Exponentiation (**)\n",
    "\n",
    "- Comparision Operators \n",
    "    - Equal to (==)\n",
    "    - Not equal to (!=)\n",
    "    - Greater Than (>)\n",
    "    - Lesser than (<)\n",
    "    - Greater Than or Equal to (>=)\n",
    "    - Lesser Than or Equal To (<=)\n",
    "\n",
    "- Logical Operators \n",
    "    - AND \n",
    "    - OR \n",
    "    - NOT \n",
    "\n",
    "- Assignment Operator \n",
    "    - (=)"
   ]
  },
  {
   "cell_type": "markdown",
   "metadata": {},
   "source": [
    "#### Arithmetic Opertors "
   ]
  },
  {
   "cell_type": "code",
   "execution_count": 2,
   "metadata": {},
   "outputs": [
    {
     "name": "stdout",
     "output_type": "stream",
     "text": [
      "Addition Result:  15\n",
      "Subtraction Result:  5\n",
      "Multiplication Result:  50\n",
      "Division Result:  2.0\n",
      "Floor Division Result:  2\n",
      "Modulus Result:  0\n",
      "Exponentiation Result:  100000\n"
     ]
    }
   ],
   "source": [
    "# Arithmetic Operators :\n",
    "\n",
    "a = 10\n",
    "b = 5\n",
    "\n",
    "add_result = a + b\n",
    "sub_result = a - b\n",
    "mult_result = a * b\n",
    "div_result = a / b\n",
    "floor_div_result = a // b\n",
    "modulus_result = a % b\n",
    "exponent_result = a ** b\n",
    "\n",
    "print(\"Addition Result: \", add_result)\n",
    "print(\"Subtraction Result: \", sub_result)\n",
    "print(\"Multiplication Result: \", mult_result)\n",
    "print(\"Division Result: \", div_result)\n",
    "print(\"Floor Division Result: \", floor_div_result)\n",
    "print(\"Modulus Result: \", modulus_result)\n",
    "print(\"Exponentiation Result: \", exponent_result)\n",
    "\n"
   ]
  },
  {
   "cell_type": "code",
   "execution_count": 3,
   "metadata": {},
   "outputs": [
    {
     "name": "stdout",
     "output_type": "stream",
     "text": [
      "4.2\n",
      "4\n"
     ]
    }
   ],
   "source": [
    "# Difference between Division and Floor Division in Python :\n",
    "\n",
    "# Division Operator\n",
    "print(21/5)\n",
    "\n",
    "# Floor Division Operator\n",
    "print(21//5)"
   ]
  },
  {
   "cell_type": "markdown",
   "metadata": {},
   "source": [
    "#### Comparision Operators"
   ]
  },
  {
   "cell_type": "code",
   "execution_count": 5,
   "metadata": {},
   "outputs": [
    {
     "name": "stdout",
     "output_type": "stream",
     "text": [
      "True\n"
     ]
    }
   ],
   "source": [
    "## Comparision Operators :\n",
    "\n",
    "# Equal to (==)\n",
    "a = 10 ; b = 10\n",
    "print(a==b)"
   ]
  },
  {
   "cell_type": "code",
   "execution_count": 6,
   "metadata": {},
   "outputs": [
    {
     "name": "stdout",
     "output_type": "stream",
     "text": [
      "True\n"
     ]
    }
   ],
   "source": [
    "# Not equal to (!=)\n",
    "a = 10 ; b = 11\n",
    "print(a!=b)"
   ]
  },
  {
   "cell_type": "code",
   "execution_count": 7,
   "metadata": {},
   "outputs": [
    {
     "name": "stdout",
     "output_type": "stream",
     "text": [
      "True\n"
     ]
    }
   ],
   "source": [
    "# Greater Than (>)\n",
    "num1 = 45 ; num2 = 35\n",
    "print(num1>num2)"
   ]
  },
  {
   "cell_type": "code",
   "execution_count": 8,
   "metadata": {},
   "outputs": [
    {
     "name": "stdout",
     "output_type": "stream",
     "text": [
      "False\n"
     ]
    }
   ],
   "source": [
    "# Less Than (<)\n",
    "num1 = 45 ; num2 =35\n",
    "print(num1<num2)"
   ]
  },
  {
   "cell_type": "code",
   "execution_count": 9,
   "metadata": {},
   "outputs": [
    {
     "name": "stdout",
     "output_type": "stream",
     "text": [
      "True\n",
      "True\n"
     ]
    }
   ],
   "source": [
    "# Greater Than or Equal to (>=)\n",
    "\n",
    "num1 = 45 ; num2 = 45 ; num3 = 50\n",
    "print(num1>=num2)\n",
    "print(num3>=num1)"
   ]
  },
  {
   "cell_type": "code",
   "execution_count": 10,
   "metadata": {},
   "outputs": [
    {
     "name": "stdout",
     "output_type": "stream",
     "text": [
      "True\n",
      "True\n"
     ]
    }
   ],
   "source": [
    "# Less than or Equal to (<=)\n",
    "\n",
    "num1 = 45 ; num2 = 20 ; num3 = 45\n",
    "print(num2<=num1)\n",
    "print(num3<=num1)"
   ]
  },
  {
   "cell_type": "markdown",
   "metadata": {},
   "source": [
    "#### Logical Operators"
   ]
  },
  {
   "cell_type": "code",
   "execution_count": 12,
   "metadata": {},
   "outputs": [
    {
     "name": "stdout",
     "output_type": "stream",
     "text": [
      "True\n",
      "False\n"
     ]
    }
   ],
   "source": [
    "## Logical Operators :\n",
    "\n",
    "# AND\n",
    "X = True ; Y = True ; Z = False\n",
    "print(X and Y)\n",
    "print(Z and X)\n"
   ]
  },
  {
   "cell_type": "code",
   "execution_count": 14,
   "metadata": {},
   "outputs": [
    {
     "name": "stdout",
     "output_type": "stream",
     "text": [
      "True\n",
      "True\n",
      "False\n"
     ]
    }
   ],
   "source": [
    "# OR\n",
    "X = True ; Y = True ; Z = False\n",
    "print(X or Y)\n",
    "print(Z or X)\n",
    "print(Z or Z)"
   ]
  },
  {
   "cell_type": "code",
   "execution_count": 18,
   "metadata": {},
   "outputs": [
    {
     "name": "stdout",
     "output_type": "stream",
     "text": [
      "False\n",
      "True\n"
     ]
    }
   ],
   "source": [
    "# NOT (Inverse)\n",
    "\n",
    "X = True ; Y = False\n",
    "print(not X)\n",
    "print(not Y)"
   ]
  }
 ],
 "metadata": {
  "kernelspec": {
   "display_name": "Python 3",
   "language": "python",
   "name": "python3"
  },
  "language_info": {
   "codemirror_mode": {
    "name": "ipython",
    "version": 3
   },
   "file_extension": ".py",
   "mimetype": "text/x-python",
   "name": "python",
   "nbconvert_exporter": "python",
   "pygments_lexer": "ipython3",
   "version": "3.12.0"
  }
 },
 "nbformat": 4,
 "nbformat_minor": 2
}
